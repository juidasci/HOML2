{
 "cells": [
  {
   "cell_type": "markdown",
   "id": "cf10e06a",
   "metadata": {},
   "source": [
    "本章介紹線性迴歸模型，會討論兩種全然相異的訓練方法\n",
    "- 直接使用封閉式方程式，算出可讓模型最擬合訓練組（也就是可將訓練組的代價函數最小化）的模型參數\n",
    "- 使用稱為梯度下降（Gradient Descent，GD）的迭代式優化法，逐步調整模型參數，來將訓練組的代價函數最小化，最終收斂到與第一種一樣的參數\n",
    "\n",
    "另外還有多項式回歸，可擬合非線性資料組"
   ]
  },
  {
   "cell_type": "markdown",
   "id": "8eb0e1f2",
   "metadata": {},
   "source": [
    "# 線性回歸"
   ]
  },
  {
   "cell_type": "markdown",
   "id": "556a0f92",
   "metadata": {},
   "source": [
    "線性迴歸進行預測的方式，是計算輸入特徵的加權總和，再加上一個稱為*偏差值*(也稱為截距項)的常數\n",
    "\n",
    "線性回歸模型預測：\n",
    "\n",
    "$\\hat{y} = \\theta_0 + \\theta_1x_1+\\theta_2x_2+....+\\theta_nx_n$\n",
    "\n",
    "- $\\hat{y}$是預測出來的值\n",
    "- $n$是特徵數量\n",
    "- $x_i$是第$i$個特徵的值\n",
    "- $\\theta_j$是第$j$個模型參數（包括偏差項$\\theta_0$與特徵權重$\\theta_1,\\theta_2,...,\\theta_n$）\n",
    "\n",
    "線性迴歸模型預測（向量化的形式）：\n",
    "\n",
    "$\\hat{y} = h_\\theta(x) = \\theta \\cdot x$\n",
    "\n",
    "- $\\theta$是模型的**參數向量**，裡面有偏差項$\\theta_0$與特徵權重$\\theta_1$到$\\theta_n$\n",
    "- $x$ 是實力的**特徵向量**，裡面有$x_0$到$x_n$，$x_0$一定等於1\n",
    "- $\\theta \\cdot x$是向量$\\theta$與$x$的內積，等於$\\theta_0 + \\theta_1x_1+\\theta_2x_2+....+\\theta_nx_n$\n",
    "- $h_\\theta$是假設函數，使用模型參數$\\theta$"
   ]
  },
  {
   "cell_type": "markdown",
   "id": "fadbf8a0",
   "metadata": {},
   "source": [
    "在機器學習中，向量通常被稱為行（column）向量，是個有一個欄位的 2D 陣列。如果 $\\theta$ 與 $x$ 是行向量，預測值是 $\\hat{y} = \\theta^T$，其中 $\\theta^T$ 是 $\\theta$ 的轉置（列向量，而非行向量），而 $\\theta^Tx$ 是 $\\theta^T$ 與 $x$ 的矩陣相乘"
   ]
  },
  {
   "cell_type": "markdown",
   "id": "a9332394",
   "metadata": {},
   "source": [
    "訓練模型代表設定它的參數，讓模型最擬合訓練組\n",
    "\n",
    "最常見的回歸模型績效評量標準是均方根誤差（RMSE），因此要訓練線性回歸模型，要先找到可將 RMSE 最小化的 $\\theta$ 值\n",
    "\n",
    "Root Mean Square Error (RMSE)\n",
    "\n",
    "$ RMSE(X, h) = \\sqrt{\\frac{1}{m}\\sum_{i=1}^{m}(h(x^{(i)}) - y^{(i)})^2} $\n",
    "\n",
    "實務上，與 RMSE 相較之下，將均方誤差（MSE）最小化不但簡單，也可產生相同結果（因為能將函數最小化的值，也可將函數的平方根最小化）\n",
    "\n",
    "線性回歸模型的 MES 代價函數  \n",
    "Mean Square Error (MSE)\n",
    "\n",
    "$ MSE(X, h_\\theta) = \\sqrt{\\frac{1}{m}\\sum_{i=1}^{m}(\\theta^Tx^{(i)} - y^{(i)})^2} $\n",
    "\n",
    "使用 $h_\\theta$ 而非只是 $h$，來指出這個模型是用向量 $\\theta$ 來表示參數的"
   ]
  },
  {
   "cell_type": "markdown",
   "id": "eae66ce1",
   "metadata": {},
   "source": [
    "## 正規方程式"
   ]
  },
  {
   "cell_type": "markdown",
   "id": "aeb72789",
   "metadata": {},
   "source": [
    "封閉式解決方案（closed-form solution）（就是可直接算出結果的數學公式）來找出可將代價函數最小化的 $\\theta$ 值，稱為**正規方程式(Nomal Equation)**\n",
    "\n",
    "正規方程式（Nomal Equation）\n",
    "\n",
    "\n",
    "$\\hat{\\theta} = (X^TX)^{-1} X^Ty$\n",
    "\n",
    "公式中：\n",
    "- $\\hat{\\theta}$ 是可將代價函數最小化的 $\\theta$ 值\n",
    "- y 是目標值向量，裡面有 $y^{(1)}$ 至 $y^{(m)}$"
   ]
  },
  {
   "cell_type": "markdown",
   "id": "34debfc7",
   "metadata": {},
   "source": [
    "### Linear regression using the Normal Equation"
   ]
  },
  {
   "cell_type": "code",
   "execution_count": 1,
   "id": "162a88d3",
   "metadata": {
    "ExecuteTime": {
     "end_time": "2022-02-28T13:29:54.442851Z",
     "start_time": "2022-02-28T13:29:53.672552Z"
    }
   },
   "outputs": [],
   "source": [
    "import numpy as np\n",
    "import matplotlib as mpl\n",
    "import matplotlib.pyplot as plt\n",
    "mpl.rc('axes', labelsize=14)\n",
    "mpl.rc('xtick', labelsize=12)\n",
    "mpl.rc('ytick', labelsize=12)\n",
    "\n",
    "%matplotlib inline"
   ]
  },
  {
   "cell_type": "code",
   "execution_count": 2,
   "id": "c1864ec4",
   "metadata": {
    "ExecuteTime": {
     "end_time": "2021-11-28T16:49:23.143019Z",
     "start_time": "2021-11-28T16:49:23.135302Z"
    }
   },
   "outputs": [],
   "source": [
    "X = 2 * np.random.rand(100, 1)\n",
    "y = 4 + 3 * X + np.random.randn(100, 1)"
   ]
  },
  {
   "cell_type": "code",
   "execution_count": 3,
   "id": "dadf94e4",
   "metadata": {
    "ExecuteTime": {
     "end_time": "2021-11-28T16:49:24.200502Z",
     "start_time": "2021-11-28T16:49:23.724021Z"
    }
   },
   "outputs": [
    {
     "data": {
      "image/png": "[encoded data removed]",
      "text/plain": [
       "<Figure size 432x288 with 1 Axes>"
      ]
     },
     "metadata": {
      "needs_background": "light"
     },
     "output_type": "display_data"
    }
   ],
   "source": [
    "plt.plot(X, y, \"b.\")\n",
    "plt.xlabel(\"$x_1$\", fontsize = 18)\n",
    "plt.ylabel(\"$y$\", rotation = 0, fontsize = 18)\n",
    "plt.axis([0, 2, 0, 15])\n",
    "\n",
    "plt.show()"
   ]
  },
  {
   "cell_type": "markdown",
   "id": "0a4df06c",
   "metadata": {},
   "source": [
    "製作的資料的函數式 $y = 4 + 3x_1$ + 高斯（Gaussian）雜訊"
   ]
  },
  {
   "cell_type": "markdown",
   "id": "3bed7f2f",
   "metadata": {},
   "source": [
    "用正規方程式來計算 $ $\n",
    "\n",
    "使用 Numpy 的線性代數模組（np.linalg）的 inv( ) 函式來計算逆矩陣，並使用 dot( ) 來做矩陣乘法"
   ]
  },
  {
   "cell_type": "code",
   "execution_count": 4,
   "id": "d0b2c986",
   "metadata": {
    "ExecuteTime": {
     "end_time": "2021-11-28T16:49:25.281670Z",
     "start_time": "2021-11-28T16:49:25.275854Z"
    }
   },
   "outputs": [],
   "source": [
    "X_b = np.c_[np.ones((100, 1)), X]  # add x0 = 1 to each instance\n",
    "theta_best = np.linalg.inv(X_b.T.dot(X_b)).dot(X_b.T).dot(y)"
   ]
  },
  {
   "cell_type": "code",
   "execution_count": 5,
   "id": "843cd19e",
   "metadata": {
    "ExecuteTime": {
     "end_time": "2021-11-28T16:49:25.731460Z",
     "start_time": "2021-11-28T16:49:25.724616Z"
    }
   },
   "outputs": [
    {
     "data": {
      "text/plain": [
       "array([[4.13281276],\n",
       "       [2.82410028]])"
      ]
     },
     "execution_count": 5,
     "metadata": {},
     "output_type": "execute_result"
    }
   ],
   "source": [
    "theta_best"
   ]
  },
  {
   "cell_type": "markdown",
   "id": "8141a09f",
   "metadata": {},
   "source": [
    "3.8 -> 4, 3.2 -> 3"
   ]
  },
  {
   "cell_type": "markdown",
   "id": "9d7a7d6c",
   "metadata": {},
   "source": [
    "用 $\\hat{\\theta}$ 來進行預測"
   ]
  },
  {
   "cell_type": "code",
   "execution_count": 6,
   "id": "d3bfc429",
   "metadata": {
    "ExecuteTime": {
     "end_time": "2021-11-28T16:49:27.050488Z",
     "start_time": "2021-11-28T16:49:27.041418Z"
    }
   },
   "outputs": [
    {
     "data": {
      "text/plain": [
       "array([[4.13281276],\n",
       "       [9.78101333]])"
      ]
     },
     "execution_count": 6,
     "metadata": {},
     "output_type": "execute_result"
    }
   ],
   "source": [
    "X_new = np.array([[0], [2]])\n",
    "X_new_b = np.c_[np.ones((2, 1)), X_new]   # add x0 = 1 to each instance\n",
    "y_predict = X_new_b.dot(theta_best)\n",
    "y_predict"
   ]
  },
  {
   "cell_type": "markdown",
   "id": "ea3c0ccd",
   "metadata": {},
   "source": [
    "畫出這個模型的預測"
   ]
  },
  {
   "cell_type": "code",
   "execution_count": 7,
   "id": "e4e5dab8",
   "metadata": {
    "ExecuteTime": {
     "end_time": "2021-11-28T16:49:28.421159Z",
     "start_time": "2021-11-28T16:49:28.166089Z"
    }
   },
   "outputs": [
    {
     "data": {
      "image/png": "[encoded data removed]",
      "text/plain": [
       "<Figure size 432x288 with 1 Axes>"
      ]
     },
     "metadata": {
      "needs_background": "light"
     },
     "output_type": "display_data"
    }
   ],
   "source": [
    "plt.plot(X_new, y_predict, \"r-\", linewidth = 2, label = \"Predictions\")\n",
    "plt.plot(X, y, \"b.\")\n",
    "plt.xlabel(\"$x_1$\", fontsize = 18)\n",
    "plt.ylabel(\"$y$\", rotation = 0, fontsize = 18)\n",
    "plt.legend(loc = \"upper left\", fontsize = 14)\n",
    "plt.axis([0, 2, 0, 15])\n",
    "\n",
    "plt.show()"
   ]
  },
  {
   "cell_type": "markdown",
   "id": "5b2f6cb9",
   "metadata": {},
   "source": [
    "使用 Scikit-Learn 來執行線性回歸"
   ]
  },
  {
   "cell_type": "code",
   "execution_count": 9,
   "id": "bfcf0ec0",
   "metadata": {
    "ExecuteTime": {
     "end_time": "2022-02-28T13:31:08.813840Z",
     "start_time": "2022-02-28T13:31:08.809563Z"
    }
   },
   "outputs": [],
   "source": [
    "from sklearn.linear_model import LinearRegression"
   ]
  },
  {
   "cell_type": "code",
   "execution_count": 9,
   "id": "c5fc58ac",
   "metadata": {
    "ExecuteTime": {
     "end_time": "2021-11-28T16:49:30.968311Z",
     "start_time": "2021-11-28T16:49:30.945402Z"
    }
   },
   "outputs": [
    {
     "data": {
      "text/plain": [
       "LinearRegression()"
      ]
     },
     "execution_count": 9,
     "metadata": {},
     "output_type": "execute_result"
    }
   ],
   "source": [
    "lin_reg = LinearRegression()\n",
    "lin_reg.fit(X, y)"
   ]
  },
  {
   "cell_type": "code",
   "execution_count": 10,
   "id": "7ac28f16",
   "metadata": {
    "ExecuteTime": {
     "end_time": "2021-11-28T16:49:31.079595Z",
     "start_time": "2021-11-28T16:49:31.070672Z"
    }
   },
   "outputs": [
    {
     "data": {
      "text/plain": [
       "(array([4.13281276]), array([[2.82410028]]))"
      ]
     },
     "execution_count": 10,
     "metadata": {},
     "output_type": "execute_result"
    }
   ],
   "source": [
    "lin_reg.intercept_, lin_reg.coef_"
   ]
  },
  {
   "cell_type": "code",
   "execution_count": 11,
   "id": "71965fc7",
   "metadata": {
    "ExecuteTime": {
     "end_time": "2021-11-28T16:49:31.686141Z",
     "start_time": "2021-11-28T16:49:31.676636Z"
    }
   },
   "outputs": [
    {
     "data": {
      "text/plain": [
       "array([[4.13281276],\n",
       "       [9.78101333]])"
      ]
     },
     "execution_count": 11,
     "metadata": {},
     "output_type": "execute_result"
    }
   ],
   "source": [
    "lin_reg.predict(X_new)"
   ]
  },
  {
   "cell_type": "markdown",
   "id": "f95011dd",
   "metadata": {},
   "source": [
    "LinearRegression 類別以 scipy.linalg.lstsq() 為基礎（名字代表“least squares“（最小平方）），可直接呼叫\n",
    "\n",
    "The `LinearRegression` class is based on the `scipy.linalg.lstsq()` function (the name stands for \"least squares\"), which you could call directly:"
   ]
  },
  {
   "cell_type": "code",
   "execution_count": 12,
   "id": "fa6ddb41",
   "metadata": {
    "ExecuteTime": {
     "end_time": "2021-11-28T16:49:32.990764Z",
     "start_time": "2021-11-28T16:49:32.982665Z"
    }
   },
   "outputs": [
    {
     "data": {
      "text/plain": [
       "array([[4.13281276],\n",
       "       [2.82410028]])"
      ]
     },
     "execution_count": 12,
     "metadata": {},
     "output_type": "execute_result"
    }
   ],
   "source": [
    "theta_best_svd, residuals, rank, s = np.linalg.lstsq(X_b, y, rcond = 1e-6)\n",
    "theta_best_svd"
   ]
  },
  {
   "cell_type": "markdown",
   "id": "db3781e1",
   "metadata": {},
   "source": [
    "這函式計算 $\\mathbf{X}^+\\mathbf{y}$，其中 $\\mathbf{X}^{+}$ 是 $\\mathbf{X}$ 的擬似逆推（*pseudoinverse*） (是 Moore-Penrose inverse)。可使用 np.linalg.pinv() 來計算擬似逆推\n",
    "\n",
    "This function computes $\\mathbf{X}^+\\mathbf{y}$, where $\\mathbf{X}^{+}$ is the _pseudoinverse_ of $\\mathbf{X}$ (specifically the Moore-Penrose inverse). You can use `np.linalg.pinv()` to compute the pseudoinverse directly:"
   ]
  },
  {
   "cell_type": "code",
   "execution_count": 13,
   "id": "e433592d",
   "metadata": {
    "ExecuteTime": {
     "end_time": "2021-11-28T16:49:34.115418Z",
     "start_time": "2021-11-28T16:49:34.105943Z"
    }
   },
   "outputs": [
    {
     "data": {
      "text/plain": [
       "array([[4.13281276],\n",
       "       [2.82410028]])"
      ]
     },
     "execution_count": 13,
     "metadata": {},
     "output_type": "execute_result"
    }
   ],
   "source": [
    "np.linalg.pinv(X_b).dot(y)"
   ]
  },
  {
   "cell_type": "markdown",
   "id": "9b565d13",
   "metadata": {},
   "source": [
    "擬似逆推是用一種稱為**奇異值分解（Singular Value Decomposition，SVD）** 的標準矩陣分解技術來計算的\n",
    "\n",
    "將訓練組矩陣 $X$ 分解成三個矩陣 $U$ $\\Sigma$ $V^T$（可參閱 numpy.linalg.svd()）\n",
    "\n",
    "算出的擬似逆推是 $\\mathbf{X}^{+} = V\\Sigma^+U^T$"
   ]
  },
  {
   "cell_type": "markdown",
   "id": "25d37989",
   "metadata": {},
   "source": [
    "## 計算複雜度"
   ]
  },
  {
   "cell_type": "markdown",
   "id": "0f0b5e73",
   "metadata": {},
   "source": [
    "當特徵數量變得很大時，正規方程式與 SVD 技術都會變得很慢。它們都與訓練組的實例（instance）成線性關係（$O(m)$)，因此當記憶體可以容納訓練組時，可有效地處理大型訓練集"
   ]
  },
  {
   "cell_type": "markdown",
   "id": "b2288fe1",
   "metadata": {},
   "source": [
    "# 梯度下降"
   ]
  },
  {
   "cell_type": "markdown",
   "id": "0d859207",
   "metadata": {},
   "source": [
    "梯度下降（Gradient Descent）是一種通用的優化演算法。適合特徵太多，或訓練實例太多而無法放進記憶體的情況\n",
    "\n",
    "透過反覆調整參數來將代價函數最小化\n",
    "\n",
    "線性回歸模型的 MSE 代價函數剛好是凸函數（onvex function），當選擇曲線上的任何兩點畫一條線時，該線絕對不會穿越曲線，代表曲線沒有局部最小值，只有全域最小值。也是個斜率不會突然改變的連續函數\n",
    "\n",
    "當使用 Gradient 時，應確保所有特徵都有相似的尺度（如使用 Scikit-learning 的 StandardScaler），否則收斂的時間會長很多"
   ]
  },
  {
   "cell_type": "markdown",
   "id": "85c8e242",
   "metadata": {},
   "source": [
    "## 批次梯度下降 Batch gradient descent"
   ]
  },
  {
   "attachments": {
    "4-5.png": {
     "image/png": "[encoded data removed]"
    }
   },
   "cell_type": "markdown",
   "id": "f560e620",
   "metadata": {},
   "source": [
    "代價函數的偏導數\n",
    "\n",
    "![4-5.png](attachment:4-5.png)"
   ]
  },
  {
   "attachments": {
    "4-6-2.png": {
     "image/png": "[encoded data removed]"
    }
   },
   "cell_type": "markdown",
   "id": "f3067ec7",
   "metadata": {},
   "source": [
    "代價函數的梯度向量\n",
    "\n",
    "![4-6-2.png](attachment:4-6-2.png)"
   ]
  },
  {
   "cell_type": "code",
   "execution_count": 14,
   "id": "4668ee65",
   "metadata": {
    "ExecuteTime": {
     "end_time": "2021-11-28T16:49:37.260624Z",
     "start_time": "2021-11-28T16:49:37.257132Z"
    }
   },
   "outputs": [],
   "source": [
    "eta = 0.1  # learning rate\n",
    "n_iterations = 1000\n",
    "m = 100"
   ]
  },
  {
   "cell_type": "code",
   "execution_count": 15,
   "id": "62691110",
   "metadata": {
    "ExecuteTime": {
     "end_time": "2021-11-28T16:49:39.503638Z",
     "start_time": "2021-11-28T16:49:39.485048Z"
    }
   },
   "outputs": [],
   "source": [
    "theta = np.random.randn(2,1)  # random initialization\n",
    "\n",
    "for iteration in range(n_iterations):\n",
    "    gradients = 2 / m * X_b.T.dot(X_b.dot(theta) - y)\n",
    "    theta = theta - eta * gradients"
   ]
  },
  {
   "cell_type": "code",
   "execution_count": 16,
   "id": "589c6528",
   "metadata": {
    "ExecuteTime": {
     "end_time": "2021-11-28T16:49:40.088107Z",
     "start_time": "2021-11-28T16:49:40.080171Z"
    }
   },
   "outputs": [
    {
     "data": {
      "text/plain": [
       "array([[4.13281276],\n",
       "       [2.82410028]])"
      ]
     },
     "execution_count": 16,
     "metadata": {},
     "output_type": "execute_result"
    }
   ],
   "source": [
    "theta"
   ]
  },
  {
   "cell_type": "code",
   "execution_count": 17,
   "id": "1aab5807",
   "metadata": {
    "ExecuteTime": {
     "end_time": "2021-11-28T16:49:40.689253Z",
     "start_time": "2021-11-28T16:49:40.679192Z"
    }
   },
   "outputs": [
    {
     "data": {
      "text/plain": [
       "array([[4.13281276],\n",
       "       [9.78101333]])"
      ]
     },
     "execution_count": 17,
     "metadata": {},
     "output_type": "execute_result"
    }
   ],
   "source": [
    "X_new_b.dot(theta)"
   ]
  },
  {
   "cell_type": "code",
   "execution_count": 18,
   "id": "d0bfaac2",
   "metadata": {
    "ExecuteTime": {
     "end_time": "2021-11-28T16:49:41.304714Z",
     "start_time": "2021-11-28T16:49:41.294497Z"
    }
   },
   "outputs": [],
   "source": [
    "theta_path_bgd = []\n",
    "\n",
    "def plot_gradient_descent(theta, eta, theta_path = None):\n",
    "    m = len(X_b)\n",
    "    plt.plot(X, y, \"b.\")\n",
    "    n_iterations = 1000\n",
    "    for iteration in range(n_iterations):\n",
    "        if iteration < 10:\n",
    "            y_predict = X_new_b.dot(theta)\n",
    "            style = \"b-\" if iteration > 0 else \"r--\"\n",
    "            plt.plot(X_new, y_predict, style)\n",
    "        gradients = 2/m * X_b.T.dot(X_b.dot(theta) - y)\n",
    "        theta = theta - eta * gradients\n",
    "        if theta_path is not None:\n",
    "            theta_path.append(theta)\n",
    "    plt.xlabel(\"$x_1$\", fontsize = 18)\n",
    "    plt.axis([0, 2, 0, 15])\n",
    "    plt.title(r\"$\\eta = {}$\".format(eta), fontsize = 16)"
   ]
  },
  {
   "cell_type": "code",
   "execution_count": 19,
   "id": "d1091641",
   "metadata": {
    "ExecuteTime": {
     "end_time": "2021-11-28T16:49:42.666886Z",
     "start_time": "2021-11-28T16:49:42.142061Z"
    }
   },
   "outputs": [
    {
     "data": {
      "image/png": "[encoded data removed]",
      "text/plain": [
       "<Figure size 720x288 with 3 Axes>"
      ]
     },
     "metadata": {
      "needs_background": "light"
     },
     "output_type": "display_data"
    }
   ],
   "source": [
    "np.random.seed(42)\n",
    "theta = np.random.randn(2, 1)  # random initialization\n",
    "\n",
    "plt.figure(figsize = (10, 4))\n",
    "plt.subplot(131); plot_gradient_descent(theta, eta = 0.02)\n",
    "plt.ylabel(\"$y$\", rotation = 0, fontsize = 18)\n",
    "plt.subplot(132); plot_gradient_descent(theta, eta = 0.1, theta_path = theta_path_bgd)\n",
    "plt.subplot(133); plot_gradient_descent(theta, eta = 0.5)\n",
    "\n",
    "plt.show()"
   ]
  },
  {
   "cell_type": "markdown",
   "id": "e14237e5",
   "metadata": {},
   "source": [
    "To find a good learning rate, you can use grid search (see Chapter 2). However, you may want to limit the number of iterations so that grid search can eliminate models that take too long to converge.\n",
    "\n",
    "You may wonder how to set the number of iterations. If it is too low, you will still be far away from the optimal solution when the algorithm stops; but if it is too high, you will waste time while the model parameters do not change anymore. A simple solu‐ tion is to set a very large number of iterations but to interrupt the algorithm when the gradient vector becomes tiny—that is, when its norm becomes smaller than a tiny number *ε* (called the tolerance)—because this happens when Gradient Descent has (almost) reached the minimum."
   ]
  },
  {
   "cell_type": "markdown",
   "id": "a3533866",
   "metadata": {},
   "source": [
    "## 隨機梯度下降 Stochastic Gradient Descent¶"
   ]
  },
  {
   "cell_type": "markdown",
   "id": "b4088291",
   "metadata": {},
   "source": [
    "批次梯度下降的主要問題是在每一個步驟都使用整個順練組來計算梯度，若當訓練組很大時，速度就十分緩慢\n",
    "\n",
    "隨機梯度下降（Stochastic Gradient Descent）會在每一個步驟從訓練組隨機挑選出一個實例，並只用那一個實例來計算梯度\n",
    "\n",
    "隨機梯度下降找到全域最小值的機率大於批次梯度下降\n",
    "\n",
    "有個壞處是演算法永遠不會停在最小值，有個解決的方法，就是逐漸降低學習速度。一開始使用很大的步幅（有助於快速推進並逃離局部最小值），接著越來越小，讓演算法停在全域最小值。這個程序類似*退火（annealing）模擬*。在每次迭代時決定學習速度的函數稱為**學習排程（learning schedule）**"
   ]
  },
  {
   "cell_type": "code",
   "execution_count": 20,
   "id": "96bc4b63",
   "metadata": {
    "ExecuteTime": {
     "end_time": "2021-11-28T16:49:44.675620Z",
     "start_time": "2021-11-28T16:49:44.671106Z"
    }
   },
   "outputs": [],
   "source": [
    "m = len(X_b)\n",
    "\n",
    "np.random.seed(42)"
   ]
  },
  {
   "cell_type": "code",
   "execution_count": 21,
   "id": "302ca1b4",
   "metadata": {
    "ExecuteTime": {
     "end_time": "2021-11-28T16:49:45.384578Z",
     "start_time": "2021-11-28T16:49:45.378752Z"
    }
   },
   "outputs": [],
   "source": [
    "n_epochs = 50\n",
    "t0, t1 = 5, 50  # 學習排程超參數 learning schedule hyperparameters"
   ]
  },
  {
   "cell_type": "code",
   "execution_count": 22,
   "id": "71d1a398",
   "metadata": {
    "ExecuteTime": {
     "end_time": "2021-11-28T16:49:46.339554Z",
     "start_time": "2021-11-28T16:49:46.335135Z"
    }
   },
   "outputs": [],
   "source": [
    "def learning_schedule(t):\n",
    "    return t0 / (t + t1)"
   ]
  },
  {
   "cell_type": "code",
   "execution_count": 23,
   "id": "fef8244f",
   "metadata": {
    "ExecuteTime": {
     "end_time": "2021-11-28T16:49:47.038121Z",
     "start_time": "2021-11-28T16:49:46.966075Z"
    }
   },
   "outputs": [],
   "source": [
    "theta = np.random.randn(2, 1)  # random initialization\n",
    "\n",
    "for epoch in range(n_epochs):\n",
    "    for i in range(m):       \n",
    "        random_index = np.random.randint(m)\n",
    "        xi = X_b[random_index:random_index + 1]\n",
    "        yi = y[random_index:random_index + 1]\n",
    "        gradients = 2 * xi.T.dot(xi.dot(theta) - yi)\n",
    "        eta = learning_schedule(epoch * m + i)\n",
    "        theta = theta - eta * gradients"
   ]
  },
  {
   "cell_type": "code",
   "execution_count": 24,
   "id": "57935f86",
   "metadata": {
    "ExecuteTime": {
     "end_time": "2021-11-28T16:49:47.772100Z",
     "start_time": "2021-11-28T16:49:47.764824Z"
    }
   },
   "outputs": [
    {
     "data": {
      "text/plain": [
       "array([[4.15234747],\n",
       "       [2.83154485]])"
      ]
     },
     "execution_count": 24,
     "metadata": {},
     "output_type": "execute_result"
    }
   ],
   "source": [
    "theta"
   ]
  },
  {
   "cell_type": "code",
   "execution_count": 25,
   "id": "46a555f1",
   "metadata": {
    "ExecuteTime": {
     "end_time": "2021-11-28T16:49:48.792244Z",
     "start_time": "2021-11-28T16:49:48.484792Z"
    }
   },
   "outputs": [
    {
     "data": {
      "image/png": "[encoded data removed]",
      "text/plain": [
       "<Figure size 432x288 with 1 Axes>"
      ]
     },
     "metadata": {
      "needs_background": "light"
     },
     "output_type": "display_data"
    }
   ],
   "source": [
    "theta_path_sgd = []\n",
    "m = len(X_b)\n",
    "\n",
    "np.random.seed(42)\n",
    "\n",
    "n_epochs = 50\n",
    "t0, t1 = 5, 50  # learning schedule hyperparameters\n",
    "\n",
    "def learning_schedule(t):\n",
    "    return t0 / (t + t1)\n",
    "\n",
    "theta = np.random.randn(2, 1)  # random initialization\n",
    "\n",
    "for epoch in range(n_epochs):\n",
    "    for i in range(m):\n",
    "        if epoch == 0 and i < 20:                    # not shown in the book\n",
    "            y_predict = X_new_b.dot(theta)           # not shown in the book\n",
    "            style = \"b-\" if i > 0 else \"r--\"         # not shown in the book\n",
    "            plt.plot(X_new, y_predict, style)        # not shown in the book\n",
    "        random_index = np.random.randint(m)\n",
    "        xi = X_b[random_index:random_index+1]\n",
    "        yi = y[random_index:random_index+1]\n",
    "        gradients = 2 * xi.T.dot(xi.dot(theta) - yi)\n",
    "        eta = learning_schedule(epoch * m + i)\n",
    "        theta = theta - eta * gradients\n",
    "        theta_path_sgd.append(theta)                 # not shown in the book\n",
    "\n",
    "plt.plot(X, y, \"b.\")                                 # not shown in the book\n",
    "plt.xlabel(\"$x_1$\", fontsize = 18)                   # not shown in the book\n",
    "plt.ylabel(\"$y$\", rotation = 0, fontsize = 18)       # not shown in the book\n",
    "plt.axis([0, 2, 0, 15])                              # not shown in the book\n",
    "\n",
    "plt.show()                                           # not shown in the book"
   ]
  },
  {
   "cell_type": "markdown",
   "id": "bb3e6294",
   "metadata": {},
   "source": [
    "因為實例是隨機選出，有些實例可能被各個 epoch 選出多次，有些則完全未被選出，若想確保演算法在每一個 epoch 遍歷每一個實例，可洗亂訓練組（務必一起洗亂輸入特徵與標籤），再逐一歷遍每個實例，接著在洗亂它，以此類堆，但這樣收斂的速度通常很慢"
   ]
  },
  {
   "cell_type": "markdown",
   "id": "91ddbb97",
   "metadata": {},
   "source": [
    "使用隨機梯度下降時，訓練實例必須是獨立同分佈的（independent and identically distributed，HD），以確保平均而言，參數會被牽引至全域最小值。要確保這件事，簡單的做法是在訓練期間洗亂實例（如隨機選出各個實例，或是在每個 epoch 開始時洗亂訓練組）"
   ]
  },
  {
   "cell_type": "markdown",
   "id": "30f7a32c",
   "metadata": {},
   "source": [
    "在 Scikit-Learn 可使用 SGDRegressor 以隨機 GD 執行線性回歸，預設優化平方誤差代價函數"
   ]
  },
  {
   "cell_type": "code",
   "execution_count": 18,
   "id": "83a9e161",
   "metadata": {
    "ExecuteTime": {
     "end_time": "2022-02-28T13:34:45.323019Z",
     "start_time": "2022-02-28T13:34:45.313702Z"
    }
   },
   "outputs": [],
   "source": [
    "from sklearn.linear_model import SGDRegressor"
   ]
  },
  {
   "cell_type": "code",
   "execution_count": 27,
   "id": "446a2c95",
   "metadata": {
    "ExecuteTime": {
     "end_time": "2021-11-28T16:49:53.479831Z",
     "start_time": "2021-11-28T16:49:53.468913Z"
    }
   },
   "outputs": [
    {
     "data": {
      "text/plain": [
       "SGDRegressor(eta0=0.1, penalty=None, random_state=42)"
      ]
     },
     "execution_count": 27,
     "metadata": {},
     "output_type": "execute_result"
    }
   ],
   "source": [
    "sgd_reg = SGDRegressor(max_iter = 1000, tol = 1e-3, penalty = None, eta0 = 0.1, random_state = 42)  \n",
    "# 最多執行 1000 epoch，或是一個 epoch 期間，loss降至小於 0.001為止（max_iter = 1000, tol = 1e-3）\n",
    "# 不使用任何正則化（penalty = None），最初的學習速度是0.1（eta0 = 0.1）\n",
    "sgd_reg.fit(X, y.ravel())"
   ]
  },
  {
   "cell_type": "code",
   "execution_count": 28,
   "id": "4e9aea6b",
   "metadata": {
    "ExecuteTime": {
     "end_time": "2021-11-28T16:49:55.313057Z",
     "start_time": "2021-11-28T16:49:55.303748Z"
    }
   },
   "outputs": [
    {
     "data": {
      "text/plain": [
       "(array([4.05279987]), array([2.81782544]))"
      ]
     },
     "execution_count": 28,
     "metadata": {},
     "output_type": "execute_result"
    }
   ],
   "source": [
    "sgd_reg.intercept_, sgd_reg.coef_"
   ]
  },
  {
   "cell_type": "markdown",
   "id": "821e3631",
   "metadata": {},
   "source": [
    "## 小批次梯度下降 Mini-batch gradient descent"
   ]
  },
  {
   "cell_type": "markdown",
   "id": "151e3752",
   "metadata": {},
   "source": [
    "小批次梯度下降在每一步是用隨機的一小組實例（稱為*小批次（mini-batches）*）來計算梯度，小批次 GD 優於隨機 GD 主要的是可用矩陣運算優化硬體來提升性能，特別是使用 GPU"
   ]
  },
  {
   "cell_type": "code",
   "execution_count": 29,
   "id": "9b38b93d",
   "metadata": {
    "ExecuteTime": {
     "end_time": "2021-11-28T16:49:57.281060Z",
     "start_time": "2021-11-28T16:49:57.276098Z"
    }
   },
   "outputs": [],
   "source": [
    "theta_path_mgd = []\n",
    "\n",
    "n_iterations = 50\n",
    "minibatch_size = 20"
   ]
  },
  {
   "cell_type": "code",
   "execution_count": 30,
   "id": "4de7a1a5",
   "metadata": {
    "ExecuteTime": {
     "end_time": "2021-11-28T16:49:59.157309Z",
     "start_time": "2021-11-28T16:49:59.151691Z"
    }
   },
   "outputs": [],
   "source": [
    "np.random.seed(42)\n",
    "theta = np.random.randn(2, 1)  # random initialization"
   ]
  },
  {
   "cell_type": "code",
   "execution_count": 31,
   "id": "d1091187",
   "metadata": {
    "ExecuteTime": {
     "end_time": "2021-11-28T16:50:00.998190Z",
     "start_time": "2021-11-28T16:50:00.993110Z"
    }
   },
   "outputs": [],
   "source": [
    "t0, t1 = 200, 1000"
   ]
  },
  {
   "cell_type": "code",
   "execution_count": 32,
   "id": "a43c073a",
   "metadata": {
    "ExecuteTime": {
     "end_time": "2021-11-28T16:50:02.796112Z",
     "start_time": "2021-11-28T16:50:02.790288Z"
    }
   },
   "outputs": [],
   "source": [
    "def learning_schedule(t):\n",
    "    return t0 / (t + t1)"
   ]
  },
  {
   "cell_type": "code",
   "execution_count": 33,
   "id": "2a8abffe",
   "metadata": {
    "ExecuteTime": {
     "end_time": "2021-11-28T16:50:04.732967Z",
     "start_time": "2021-11-28T16:50:04.719699Z"
    }
   },
   "outputs": [],
   "source": [
    "t = 0\n",
    "\n",
    "for epoch in range(n_iterations):\n",
    "    shuffled_indices = np.random.permutation(m)\n",
    "    X_b_shuffled = X_b[shuffled_indices]\n",
    "    y_shuffled = y[shuffled_indices]\n",
    "    \n",
    "    for i in range(0, m, minibatch_size):\n",
    "        t += 1\n",
    "        xi = X_b_shuffled[i:i + minibatch_size]\n",
    "        yi = y_shuffled[i:i + minibatch_size]\n",
    "        gradients = 2 / minibatch_size * xi.T.dot(xi.dot(theta) - yi)\n",
    "        eta = learning_schedule(t)\n",
    "        theta = theta - eta * gradients\n",
    "        theta_path_mgd.append(theta)"
   ]
  },
  {
   "cell_type": "code",
   "execution_count": 34,
   "id": "dbe204ba",
   "metadata": {
    "ExecuteTime": {
     "end_time": "2021-11-28T16:50:06.646627Z",
     "start_time": "2021-11-28T16:50:06.639000Z"
    }
   },
   "outputs": [
    {
     "data": {
      "text/plain": [
       "array([[4.21195479],\n",
       "       [2.91290289]])"
      ]
     },
     "execution_count": 34,
     "metadata": {},
     "output_type": "execute_result"
    }
   ],
   "source": [
    "theta"
   ]
  },
  {
   "cell_type": "code",
   "execution_count": 35,
   "id": "3f649ac5",
   "metadata": {
    "ExecuteTime": {
     "end_time": "2021-11-28T16:50:08.655103Z",
     "start_time": "2021-11-28T16:50:08.642578Z"
    }
   },
   "outputs": [],
   "source": [
    "theta_path_bgd = np.array(theta_path_bgd)\n",
    "theta_path_sgd = np.array(theta_path_sgd)\n",
    "theta_path_mgd = np.array(theta_path_mgd)"
   ]
  },
  {
   "cell_type": "code",
   "execution_count": 36,
   "id": "7fc40534",
   "metadata": {
    "ExecuteTime": {
     "end_time": "2021-11-28T16:50:09.068023Z",
     "start_time": "2021-11-28T16:50:08.759161Z"
    }
   },
   "outputs": [
    {
     "data": {
      "image/png": "[encoded data removed]",
      "text/plain": [
       "<Figure size 504x288 with 1 Axes>"
      ]
     },
     "metadata": {
      "needs_background": "light"
     },
     "output_type": "display_data"
    }
   ],
   "source": [
    "plt.figure(figsize = (7, 4))\n",
    "plt.plot(theta_path_sgd[:, 0], theta_path_sgd[:, 1], \"r-s\", linewidth = 1, label = \"Stochastic\")\n",
    "plt.plot(theta_path_mgd[:, 0], theta_path_mgd[:, 1], \"g-+\", linewidth = 2, label = \"Mini-batch\")\n",
    "plt.plot(theta_path_bgd[:, 0], theta_path_bgd[:, 1], \"b-o\", linewidth = 3, label = \"Batch\")\n",
    "plt.legend(loc=\"upper left\", fontsize = 16)\n",
    "plt.xlabel(r\"$\\theta_0$\", fontsize = 20)\n",
    "plt.ylabel(r\"$\\theta_1$   \", fontsize = 20, rotation = 0)\n",
    "plt.axis([2.5, 4.5, 2.3, 3.9])\n",
    "\n",
    "plt.show()"
   ]
  },
  {
   "cell_type": "markdown",
   "id": "9a14467c",
   "metadata": {},
   "source": [
    "# 多項式回歸 Polynomial regression"
   ]
  },
  {
   "cell_type": "markdown",
   "id": "68e3684f",
   "metadata": {},
   "source": [
    "可用線型模型來擬合非線性資料，一種簡單的做法是加入各個特徵的次方來作為新特徵，接著用這個擴展後的特徵組合來訓練線型模型。這種技術稱為**多項式回歸（Polynomial regression）**"
   ]
  },
  {
   "cell_type": "code",
   "execution_count": 37,
   "id": "bb284009",
   "metadata": {
    "ExecuteTime": {
     "end_time": "2021-11-28T16:53:33.286834Z",
     "start_time": "2021-11-28T16:53:33.281609Z"
    }
   },
   "outputs": [],
   "source": [
    "import numpy as np\n",
    "import numpy.random as rnd\n",
    "\n",
    "np.random.seed(42)"
   ]
  },
  {
   "cell_type": "markdown",
   "id": "3d9597b9",
   "metadata": {},
   "source": [
    "使用簡單的二次方程式再加上高斯雜訊，產生一些非線性資料\n",
    "\n",
    "此例子中只有一個特徵"
   ]
  },
  {
   "cell_type": "code",
   "execution_count": 38,
   "id": "d3e4e3fe",
   "metadata": {
    "ExecuteTime": {
     "end_time": "2021-11-28T16:53:34.107198Z",
     "start_time": "2021-11-28T16:53:34.102779Z"
    }
   },
   "outputs": [],
   "source": [
    "m = 100\n",
    "X = 6 * np.random.rand(m, 1) - 3\n",
    "y = 0.5 * X ** 2 + X + 2 + np.random.randn(m, 1)"
   ]
  },
  {
   "cell_type": "code",
   "execution_count": 40,
   "id": "4e29f7ec",
   "metadata": {
    "ExecuteTime": {
     "end_time": "2021-11-28T16:53:38.411817Z",
     "start_time": "2021-11-28T16:53:38.207266Z"
    }
   },
   "outputs": [
    {
     "data": {
      "image/png": "[encoded data removed]",
      "text/plain": [
       "<Figure size 432x288 with 1 Axes>"
      ]
     },
     "metadata": {
      "needs_background": "light"
     },
     "output_type": "display_data"
    }
   ],
   "source": [
    "plt.plot(X, y, \"b.\")\n",
    "plt.xlabel(\"$x_1$\", fontsize = 18)\n",
    "plt.ylabel(\"$y$\", rotation = 0, fontsize = 18)\n",
    "plt.axis([-3, 3, 0, 10])\n",
    "\n",
    "plt.show()"
   ]
  },
  {
   "cell_type": "markdown",
   "id": "e49fc960",
   "metadata": {},
   "source": [
    "由於直線無法擬合這筆資料，所以用 Scikit-Learn 的 PolynomialFeatures 來轉換資料，在訓練組內加入各個特徵的平方（二次多項是）作為新特徵"
   ]
  },
  {
   "cell_type": "code",
   "execution_count": 13,
   "id": "24c4444e",
   "metadata": {
    "ExecuteTime": {
     "end_time": "2022-02-28T13:31:47.053006Z",
     "start_time": "2022-02-28T13:31:47.048002Z"
    }
   },
   "outputs": [],
   "source": [
    "from sklearn.preprocessing import PolynomialFeatures"
   ]
  },
  {
   "cell_type": "code",
   "execution_count": 46,
   "id": "5a533e83",
   "metadata": {
    "ExecuteTime": {
     "end_time": "2021-11-28T16:58:22.658199Z",
     "start_time": "2021-11-28T16:58:22.653055Z"
    }
   },
   "outputs": [],
   "source": [
    "poly_features = PolynomialFeatures(degree = 2, include_bias = False)\n",
    "X_poly = poly_features.fit_transform(X)"
   ]
  },
  {
   "cell_type": "code",
   "execution_count": 47,
   "id": "5eccb977",
   "metadata": {
    "ExecuteTime": {
     "end_time": "2021-11-28T16:58:23.795297Z",
     "start_time": "2021-11-28T16:58:23.788121Z"
    }
   },
   "outputs": [
    {
     "data": {
      "text/plain": [
       "array([-0.75275929])"
      ]
     },
     "execution_count": 47,
     "metadata": {},
     "output_type": "execute_result"
    }
   ],
   "source": [
    "X[0]"
   ]
  },
  {
   "cell_type": "markdown",
   "id": "39834a95",
   "metadata": {},
   "source": [
    "X_poly 內有原始的 X 特徵，以及該特徵的平方"
   ]
  },
  {
   "cell_type": "code",
   "execution_count": 43,
   "id": "60ab5a3b",
   "metadata": {
    "ExecuteTime": {
     "end_time": "2021-11-28T16:55:06.235751Z",
     "start_time": "2021-11-28T16:55:06.228290Z"
    }
   },
   "outputs": [
    {
     "data": {
      "text/plain": [
       "array([-0.75275929,  0.56664654])"
      ]
     },
     "execution_count": 43,
     "metadata": {},
     "output_type": "execute_result"
    }
   ],
   "source": [
    "X_poly[0]"
   ]
  },
  {
   "cell_type": "markdown",
   "id": "630c6660",
   "metadata": {},
   "source": [
    "使用 LinearRegreesion 來擬合這個擴展過的訓練資料"
   ]
  },
  {
   "cell_type": "code",
   "execution_count": 44,
   "id": "c3c0da6a",
   "metadata": {
    "ExecuteTime": {
     "end_time": "2021-11-28T16:55:20.830095Z",
     "start_time": "2021-11-28T16:55:20.820577Z"
    }
   },
   "outputs": [
    {
     "data": {
      "text/plain": [
       "(array([1.78134581]), array([[0.93366893, 0.56456263]]))"
      ]
     },
     "execution_count": 44,
     "metadata": {},
     "output_type": "execute_result"
    }
   ],
   "source": [
    "lin_reg = LinearRegression()\n",
    "lin_reg.fit(X_poly, y)\n",
    "lin_reg.intercept_, lin_reg.coef_"
   ]
  },
  {
   "cell_type": "code",
   "execution_count": 45,
   "id": "5b03c6d1",
   "metadata": {
    "ExecuteTime": {
     "end_time": "2021-11-28T16:55:27.461543Z",
     "start_time": "2021-11-28T16:55:27.242712Z"
    }
   },
   "outputs": [
    {
     "data": {
      "image/png": "[encoded data removed]",
      "text/plain": [
       "<Figure size 432x288 with 1 Axes>"
      ]
     },
     "metadata": {
      "needs_background": "light"
     },
     "output_type": "display_data"
    }
   ],
   "source": [
    "X_new = np.linspace(-3, 3, 100).reshape(100, 1)\n",
    "X_new_poly = poly_features.transform(X_new)\n",
    "y_new = lin_reg.predict(X_new_poly)\n",
    "plt.plot(X, y, \"b.\")\n",
    "plt.plot(X_new, y_new, \"r-\", linewidth = 2, label = \"Predictions\")\n",
    "plt.xlabel(\"$x_1$\", fontsize = 18)\n",
    "plt.ylabel(\"$y$\", rotation = 0, fontsize = 18)\n",
    "plt.legend(loc = \"upper left\", fontsize = 14)\n",
    "plt.axis([-3, 3, 0, 10])\n",
    "\n",
    "plt.show()"
   ]
  },
  {
   "cell_type": "markdown",
   "id": "ce8d269c",
   "metadata": {},
   "source": [
    "原始的函數\n",
    "\n",
    "$\\hat{y} = 0.5x_1^2 + 1.0x_1 + 2.0 + 高斯雜訊$\n",
    "\n",
    "模型估計\n",
    "\n",
    "$\\hat{y} = 0.56x_1^2 + 0.93x_1 + 1.78$"
   ]
  },
  {
   "cell_type": "markdown",
   "id": "c712fa5b",
   "metadata": {},
   "source": [
    "當特徵有多個時，多項式回歸或許可以找出特徵間的關係，因為 PolynomialFeatures 也會加入所設定的 degree 之前的每一個特徵組合。例如有兩個特徵 a 與 b，degree = 3 的 PolynomialFeatures 不但會加入特徵 a^2, a^3, b^2, b^3，也會加入 ab, a^2b 與 ab^2 等組合\n",
    "\n",
    "PolynomialFeatures(degree = d) 會將一個含有 n 個特徵的陣列轉換成一個含有 (n+d)!/d!n! 個特徵的陣列，其中 n! 是 n 的階乘。所以要小心特徵組合數量爆炸"
   ]
  },
  {
   "cell_type": "markdown",
   "id": "d45affa1",
   "metadata": {},
   "source": [
    "# 學習曲線 Learning Curves"
   ]
  },
  {
   "cell_type": "code",
   "execution_count": 15,
   "id": "16e59554",
   "metadata": {
    "ExecuteTime": {
     "end_time": "2022-02-28T13:32:02.409549Z",
     "start_time": "2022-02-28T13:32:02.404600Z"
    }
   },
   "outputs": [],
   "source": [
    "from sklearn.preprocessing import StandardScaler\n",
    "from sklearn.pipeline import Pipeline"
   ]
  },
  {
   "cell_type": "code",
   "execution_count": 49,
   "id": "da096b1c",
   "metadata": {
    "ExecuteTime": {
     "end_time": "2021-11-29T12:14:17.398934Z",
     "start_time": "2021-11-29T12:14:16.904211Z"
    }
   },
   "outputs": [
    {
     "data": {
      "image/png": "[encoded data removed]",
      "text/plain": [
       "<Figure size 432x288 with 1 Axes>"
      ]
     },
     "metadata": {
      "needs_background": "light"
     },
     "output_type": "display_data"
    }
   ],
   "source": [
    "for style, width, degree in ((\"g-\", 1, 300), (\"b--\", 2, 2), (\"r-+\", 2, 1)):\n",
    "    polybig_features = PolynomialFeatures(degree = degree, include_bias = False)\n",
    "    std_scaler = StandardScaler()\n",
    "    lin_reg = LinearRegression()\n",
    "    polynomial_regression = Pipeline([\n",
    "            (\"poly_features\", polybig_features),\n",
    "            (\"std_scaler\", std_scaler),\n",
    "            (\"lin_reg\", lin_reg),\n",
    "        ])\n",
    "    polynomial_regression.fit(X, y)\n",
    "    y_newbig = polynomial_regression.predict(X_new)\n",
    "    plt.plot(X_new, y_newbig, style, label = str(degree), linewidth=width)\n",
    "\n",
    "plt.plot(X, y, \"b.\", linewidth = 3)\n",
    "plt.legend(loc=\"upper left\")\n",
    "plt.xlabel(\"$x_1$\", fontsize = 18)\n",
    "plt.ylabel(\"$y$\", rotation = 0, fontsize = 18)\n",
    "plt.axis([-3, 3, 0, 10])\n",
    "\n",
    "plt.show()"
   ]
  },
  {
   "cell_type": "markdown",
   "id": "172fcb8d",
   "metadata": {},
   "source": [
    "上圖的結果顯示高次多項式回歸模型嚴重過擬訓練資料，線性模型則欠擬，只有二次模型是表現較好\n",
    "\n",
    "可使用交叉驗證來估計模型的類推效果，根據交叉驗證評估結果，模型處理訓練資料的能力很好，但類推能力很差，就顯示模型過擬了，如果處理兩者的效果都很差，就表示模型欠擬，這是了解模型究竟是太簡單還是太複雜的一種方法"
   ]
  },
  {
   "cell_type": "markdown",
   "id": "acc8a2f6",
   "metadata": {},
   "source": [
    "另一種方法是查看**學習曲線（learning curves）**，是指出模型處理訓練組與驗證組的效果，和訓練組的大小（或訓練迭代）之間關係的圖表\n",
    "\n",
    "要畫出該圖，要用各種大小的訓練子集合來訓練模型"
   ]
  },
  {
   "cell_type": "code",
   "execution_count": 50,
   "id": "655f55c3",
   "metadata": {
    "ExecuteTime": {
     "end_time": "2021-11-29T12:24:52.534909Z",
     "start_time": "2021-11-29T12:24:52.531333Z"
    }
   },
   "outputs": [],
   "source": [
    "from sklearn.metrics import mean_squared_error\n",
    "from sklearn.model_selection import train_test_split"
   ]
  },
  {
   "cell_type": "code",
   "execution_count": 51,
   "id": "7682e09a",
   "metadata": {
    "ExecuteTime": {
     "end_time": "2021-11-29T12:24:53.358837Z",
     "start_time": "2021-11-29T12:24:53.351835Z"
    }
   },
   "outputs": [],
   "source": [
    "def plot_learning_curves(model, X, y):\n",
    "    X_train, X_val, y_train, y_val = train_test_split(X, y, test_size = 0.2, random_state = 10)\n",
    "    train_errors, val_errors = [], []\n",
    "    \n",
    "    for m in range(1, len(X_train)):\n",
    "        model.fit(X_train[:m], y_train[:m])\n",
    "        y_train_predict = model.predict(X_train[:m])\n",
    "        y_val_predict = model.predict(X_val)\n",
    "        train_errors.append(mean_squared_error(y_train[:m], y_train_predict))\n",
    "        val_errors.append(mean_squared_error(y_val, y_val_predict))\n",
    "\n",
    "    plt.plot(np.sqrt(train_errors), \"r-+\", linewidth = 2, label = \"train\")\n",
    "    plt.plot(np.sqrt(val_errors), \"b-\", linewidth = 3, label = \"val\")\n",
    "    plt.legend(loc=\"upper right\", fontsize = 14)   # not shown in the book\n",
    "    plt.xlabel(\"Training set size\", fontsize = 14) # not shown in the book\n",
    "    plt.ylabel(\"RMSE\", fontsize = 14)              # not shown in the book"
   ]
  },
  {
   "cell_type": "markdown",
   "id": "7368a9fe",
   "metadata": {},
   "source": [
    "檢視一般線性回歸模型的學習曲線"
   ]
  },
  {
   "cell_type": "code",
   "execution_count": 52,
   "id": "73be2753",
   "metadata": {
    "ExecuteTime": {
     "end_time": "2021-11-29T12:24:54.607905Z",
     "start_time": "2021-11-29T12:24:54.308017Z"
    }
   },
   "outputs": [
    {
     "data": {
      "image/png": "[encoded data removed]",
      "text/plain": [
       "<Figure size 432x288 with 1 Axes>"
      ]
     },
     "metadata": {
      "needs_background": "light"
     },
     "output_type": "display_data"
    }
   ],
   "source": [
    "lin_reg = LinearRegression()\n",
    "plot_learning_curves(lin_reg, X, y)\n",
    "plt.axis([0, 80, 0, 3])                         # not shown in the book\n",
    "\n",
    "plt.show()   "
   ]
  },
  {
   "cell_type": "markdown",
   "id": "c7463ceb",
   "metadata": {},
   "source": [
    "上圖學習曲線是典型欠擬的模型曲線，這兩條曲線都到達一個高原，彼此很接近，且很高"
   ]
  },
  {
   "cell_type": "markdown",
   "id": "1165d72f",
   "metadata": {},
   "source": [
    "如果模型欠擬訓練資料，加入更多訓練樣本是於事無補的。必須使用更複雜的模型，或找出更好的特徵"
   ]
  },
  {
   "cell_type": "markdown",
   "id": "10036bb0",
   "metadata": {},
   "source": [
    "使用 10 次多項式模型來處理同一組資料的學習曲線"
   ]
  },
  {
   "cell_type": "code",
   "execution_count": 11,
   "id": "6e3723fd",
   "metadata": {
    "ExecuteTime": {
     "end_time": "2022-02-28T13:31:28.405681Z",
     "start_time": "2022-02-28T13:31:28.398583Z"
    }
   },
   "outputs": [],
   "source": [
    "from sklearn.pipeline import Pipeline"
   ]
  },
  {
   "cell_type": "code",
   "execution_count": 55,
   "id": "3f6a3e7a",
   "metadata": {
    "ExecuteTime": {
     "end_time": "2021-11-29T12:43:53.492467Z",
     "start_time": "2021-11-29T12:43:53.149316Z"
    }
   },
   "outputs": [
    {
     "data": {
      "image/png": "[encoded data removed]",
      "text/plain": [
       "<Figure size 432x288 with 1 Axes>"
      ]
     },
     "metadata": {
      "needs_background": "light"
     },
     "output_type": "display_data"
    }
   ],
   "source": [
    "polynomial_regression = Pipeline([\n",
    "        (\"poly_features\", PolynomialFeatures(degree = 10, include_bias = False)),\n",
    "        (\"lin_reg\", LinearRegression()),\n",
    "    ])\n",
    "\n",
    "plot_learning_curves(polynomial_regression, X, y)\n",
    "plt.axis([0, 80, 0, 3])           # not shown\n",
    "\n",
    "plt.show()                        # not shown"
   ]
  },
  {
   "cell_type": "markdown",
   "id": "67e5a6dc",
   "metadata": {},
   "source": [
    "上圖在處理訓練資料的誤差比線性回歸模型小很多\n",
    "\n",
    "兩曲線間有一段距離，表這個模型處理訓練資料的效果比驗證資料好非常多，這是過擬模型的特徵。但如果使用大很多的訓練組，這兩條曲線會持續靠近"
   ]
  },
  {
   "cell_type": "markdown",
   "id": "70d7946f",
   "metadata": {},
   "source": [
    "有一種改善過擬模型的方法，就是餵更多的訓練資料，直到驗證誤差與訓練誤差碰在一起為止"
   ]
  },
  {
   "cell_type": "markdown",
   "id": "510bee81",
   "metadata": {},
   "source": [
    "模型的類推誤差可用三個非常不同的誤差之和來表示：\n",
    "- 偏差（bias）:這是由錯誤的假設所造成的。當模型有高偏差時，很有可能欠擬訓練資料\n",
    "- 變異度（variance）:這是模型對訓練資料的微小變化過度敏感造成的。自由度較多的模型（如高次多項式模型）可能有高變異度，因此過擬訓練資料\n",
    "- 不可還原誤差（irreducible error）:這是資料本恩的雜訊造成的，這部分的誤差只能藉由清理資料來降低\n",
    "\n",
    "增加模型的複雜度通常會增加其變異度，且減少偏差，反過來說，減少模型的複雜度會增加其偏差，減少變異度。這就是為何被稱為權衡（trade-off）"
   ]
  },
  {
   "cell_type": "markdown",
   "id": "9357fbc4",
   "metadata": {},
   "source": [
    "# 含正則化的線性模型 Regularized models"
   ]
  },
  {
   "cell_type": "markdown",
   "id": "ef5ae74b",
   "metadata": {},
   "source": [
    "將模型正則化（也就是約束它）是降低過擬的好方法，其自由度越少，就越難過擬資料，要將多項式模型正則化，有一種簡單的做法是降低多項式次數（degree）\n",
    "\n",
    "對線性模型而言，正則化的做法通常是約束模型的權重\n",
    "\n",
    "有三種不同權重的約束方式\n",
    "- 山嶺回歸 Ridge Regression\n",
    "- Lasso回歸 Lasso Regression\n",
    "- 彈性網路 Elastic Net"
   ]
  },
  {
   "cell_type": "markdown",
   "id": "eb158f7e",
   "metadata": {},
   "source": [
    "## 山嶺回歸 Ridge Regression"
   ]
  },
  {
   "cell_type": "markdown",
   "id": "1819c76c",
   "metadata": {},
   "source": [
    "山嶺回歸(Ridge Regression)也稱為 Tikhonow 正則化，是線性回歸的正則化版本，在代價函式中加入一個等於 $\\alpha\\sum_{i=1}^{m}\\theta^2_i $ 的正則化項\n",
    "\n",
    "超參數 $\\alpha$ 控制將模型正則化的程度。如果 $\\alpha=0$ 山嶺回歸就是現行回歸。如果 $\\alpha$ 很大，所有權著最終都非常接近零，變成一個穿越資料均值的直線 \n",
    "\n",
    "\n",
    "執行山嶺回歸之前務必縮份資料，因為對輸入特徵的尺度非常敏感。對多數正則化的模型而言都是如此"
   ]
  },
  {
   "cell_type": "code",
   "execution_count": 2,
   "id": "63c8e830",
   "metadata": {
    "ExecuteTime": {
     "end_time": "2022-02-28T13:30:04.280528Z",
     "start_time": "2022-02-28T13:30:04.268579Z"
    }
   },
   "outputs": [],
   "source": [
    "np.random.seed(42)\n",
    "m = 20\n",
    "X = 3 * np.random.rand(m, 1)\n",
    "y = 1 + 0.5 * X + np.random.randn(m, 1) / 1.5\n",
    "X_new = np.linspace(0, 3, 100).reshape(100, 1)"
   ]
  },
  {
   "cell_type": "code",
   "execution_count": 3,
   "id": "7ecc06fc",
   "metadata": {
    "ExecuteTime": {
     "end_time": "2022-02-28T13:30:05.289318Z",
     "start_time": "2022-02-28T13:30:05.284315Z"
    }
   },
   "outputs": [],
   "source": [
    "from sklearn.linear_model import Ridge"
   ]
  },
  {
   "cell_type": "code",
   "execution_count": 6,
   "id": "6cce8cd2",
   "metadata": {
    "ExecuteTime": {
     "end_time": "2022-02-28T13:30:08.174898Z",
     "start_time": "2022-02-28T13:30:08.162490Z"
    }
   },
   "outputs": [],
   "source": [
    "def plot_model(model_class, polynomial, alphas, **model_kargs):\n",
    "    for alpha, style in zip(alphas, (\"b-\", \"g--\", \"r:\")):\n",
    "        model = model_class(alpha, **model_kargs) if alpha > 0 else LinearRegression()\n",
    "        if polynomial:\n",
    "            model = Pipeline([\n",
    "                    (\"poly_features\", PolynomialFeatures(degree=10, include_bias=False)),\n",
    "                    (\"std_scaler\", StandardScaler()),\n",
    "                    (\"regul_reg\", model),\n",
    "                ])\n",
    "        model.fit(X, y)\n",
    "        y_new_regul = model.predict(X_new)\n",
    "        lw = 2 if alpha > 0 else 1\n",
    "        plt.plot(X_new, y_new_regul, style, linewidth = lw, label = r\"$\\alpha = {}$\".format(alpha))\n",
    "    plt.plot(X, y, \"b.\", linewidth = 3)\n",
    "    plt.legend(loc = \"upper left\", fontsize = 15)\n",
    "    plt.xlabel(\"$x_1$\", fontsize = 18)\n",
    "    plt.axis([0, 3, 0, 4])"
   ]
  },
  {
   "cell_type": "code",
   "execution_count": 16,
   "id": "ea9af135",
   "metadata": {
    "ExecuteTime": {
     "end_time": "2022-02-28T13:32:07.272397Z",
     "start_time": "2022-02-28T13:32:06.747880Z"
    }
   },
   "outputs": [
    {
     "data": {
      "image/png": "[encoded data removed]",
      "text/plain": [
       "<Figure size 576x288 with 2 Axes>"
      ]
     },
     "metadata": {
      "needs_background": "light"
     },
     "output_type": "display_data"
    }
   ],
   "source": [
    "plt.figure(figsize = (8,4))\n",
    "plt.subplot(121)\n",
    "plot_model(Ridge, polynomial = False, alphas = (0, 10, 100), random_state = 42)\n",
    "plt.ylabel(\"$y$\", rotation = 0, fontsize = 18)\n",
    "plt.subplot(122)\n",
    "plot_model(Ridge, polynomial = True, alphas = (0, 10 ** -5, 1), random_state = 42)\n",
    "\n",
    "plt.show()"
   ]
  },
  {
   "cell_type": "code",
   "execution_count": 4,
   "id": "8acd0688",
   "metadata": {
    "ExecuteTime": {
     "end_time": "2022-02-28T13:30:06.074668Z",
     "start_time": "2022-02-28T13:30:06.047230Z"
    }
   },
   "outputs": [
    {
     "data": {
      "text/plain": [
       "array([[1.55071465]])"
      ]
     },
     "execution_count": 4,
     "metadata": {},
     "output_type": "execute_result"
    }
   ],
   "source": [
    "ridge_reg = Ridge(alpha = 1, solver = \"cholesky\", random_state = 42)\n",
    "ridge_reg.fit(X, y)\n",
    "ridge_reg.predict([[1.5]])"
   ]
  },
  {
   "cell_type": "code",
   "execution_count": 19,
   "id": "e7618f3c",
   "metadata": {
    "ExecuteTime": {
     "end_time": "2022-02-28T13:34:53.544534Z",
     "start_time": "2022-02-28T13:34:53.526612Z"
    }
   },
   "outputs": [
    {
     "data": {
      "text/plain": [
       "array([1.47012588])"
      ]
     },
     "execution_count": 19,
     "metadata": {},
     "output_type": "execute_result"
    }
   ],
   "source": [
    "sgd_reg = SGDRegressor(penalty = \"l2\", random_state = 42)\n",
    "sgd_reg.fit(X, y.ravel())\n",
    "sgd_reg.predict([[1.5]])"
   ]
  },
  {
   "cell_type": "code",
   "execution_count": 5,
   "id": "29fd9aec",
   "metadata": {
    "ExecuteTime": {
     "end_time": "2022-02-28T13:30:07.243319Z",
     "start_time": "2022-02-28T13:30:07.229340Z"
    }
   },
   "outputs": [
    {
     "data": {
      "text/plain": [
       "array([[1.5507201]])"
      ]
     },
     "execution_count": 5,
     "metadata": {},
     "output_type": "execute_result"
    }
   ],
   "source": [
    "ridge_reg = Ridge(alpha = 1, solver = \"sag\", random_state = 42)\n",
    "ridge_reg.fit(X, y)\n",
    "ridge_reg.predict([[1.5]])"
   ]
  },
  {
   "cell_type": "code",
   "execution_count": 20,
   "id": "495bdfd3",
   "metadata": {
    "ExecuteTime": {
     "end_time": "2022-02-28T13:35:15.412132Z",
     "start_time": "2022-02-28T13:35:15.395311Z"
    }
   },
   "outputs": [
    {
     "data": {
      "text/plain": [
       "array([1.47012588])"
      ]
     },
     "execution_count": 20,
     "metadata": {},
     "output_type": "execute_result"
    }
   ],
   "source": [
    "sgd_reg = SGDRegressor(penalty = \"l2\", max_iter = 1000, tol = 1e-3, random_state = 42)\n",
    "sgd_reg.fit(X, y.ravel())\n",
    "sgd_reg.predict([[1.5]])"
   ]
  },
  {
   "cell_type": "markdown",
   "id": "bd706d60",
   "metadata": {},
   "source": [
    "## Lasso回歸 Lasso Regression"
   ]
  },
  {
   "cell_type": "markdown",
   "id": "657291d1",
   "metadata": {},
   "source": []
  },
  {
   "cell_type": "code",
   "execution_count": 21,
   "id": "fcc68157",
   "metadata": {
    "ExecuteTime": {
     "end_time": "2022-02-28T13:36:35.341318Z",
     "start_time": "2022-02-28T13:36:35.336040Z"
    }
   },
   "outputs": [],
   "source": [
    "from sklearn.linear_model import Lasso"
   ]
  },
  {
   "cell_type": "code",
   "execution_count": 22,
   "id": "1e911936",
   "metadata": {
    "ExecuteTime": {
     "end_time": "2022-02-28T13:36:42.585781Z",
     "start_time": "2022-02-28T13:36:42.097997Z"
    }
   },
   "outputs": [
    {
     "name": "stderr",
     "output_type": "stream",
     "text": [
      "/Users/jasonch/opt/anaconda3/lib/python3.9/site-packages/sklearn/linear_model/_coordinate_descent.py:530: ConvergenceWarning: Objective did not converge. You might want to increase the number of iterations. Duality gap: 2.802867703827432, tolerance: 0.0009294783355207351\n",
      "  model = cd_fast.enet_coordinate_descent(\n"
     ]
    },
    {
     "data": {
      "image/png": "[encoded data removed]",
      "text/plain": [
       "<Figure size 576x288 with 2 Axes>"
      ]
     },
     "metadata": {
      "needs_background": "light"
     },
     "output_type": "display_data"
    }
   ],
   "source": [
    "plt.figure(figsize = (8, 4))\n",
    "plt.subplot(121)\n",
    "plot_model(Lasso, polynomial = False, alphas = (0, 0.1, 1), random_state = 42)\n",
    "plt.ylabel(\"$y$\", rotation = 0, fontsize = 18)\n",
    "plt.subplot(122)\n",
    "plot_model(Lasso, polynomial=True, alphas = (0, 10**-7, 1), random_state = 42)\n",
    "\n",
    "plt.show()"
   ]
  },
  {
   "cell_type": "code",
   "execution_count": null,
   "id": "4ce10c4b",
   "metadata": {},
   "outputs": [],
   "source": []
  },
  {
   "cell_type": "markdown",
   "id": "4a49d5ab",
   "metadata": {},
   "source": [
    "Lasso VS. Ridge Plot"
   ]
  },
  {
   "cell_type": "code",
   "execution_count": 68,
   "id": "2cb916ee",
   "metadata": {
    "ExecuteTime": {
     "end_time": "2021-11-29T13:38:18.107931Z",
     "start_time": "2021-11-29T13:38:18.101798Z"
    }
   },
   "outputs": [],
   "source": [
    "import numpy as np\n",
    "import matplotlib.pyplot as plt\n",
    "\n",
    "%matplotlib inline"
   ]
  },
  {
   "cell_type": "code",
   "execution_count": 72,
   "id": "07ed2013",
   "metadata": {
    "ExecuteTime": {
     "end_time": "2021-11-29T13:38:33.445933Z",
     "start_time": "2021-11-29T13:38:33.393232Z"
    }
   },
   "outputs": [],
   "source": [
    "t1a, t1b, t2a, t2b = -1, 3, -1.5, 1.5\n",
    "\n",
    "t1s = np.linspace(t1a, t1b, 500)\n",
    "t2s = np.linspace(t2a, t2b, 500)\n",
    "t1, t2 = np.meshgrid(t1s, t2s)\n",
    "T = np.c_[t1.ravel(), t2.ravel()]\n",
    "Xr = np.array([[1, 1], [1, -1], [1, 0.5]])\n",
    "yr = 2 * Xr[:, :1] + 0.5 * Xr[:, 1:]\n",
    "\n",
    "J = (1/len(Xr) * np.sum((T.dot(Xr.T) - yr.T)**2, axis=1)).reshape(t1.shape)\n",
    "\n",
    "N1 = np.linalg.norm(T, ord = 1, axis = 1).reshape(t1.shape)\n",
    "N2 = np.linalg.norm(T, ord = 2, axis = 1).reshape(t1.shape)\n",
    "\n",
    "t_min_idx = np.unravel_index(np.argmin(J), J.shape)\n",
    "t1_min, t2_min = t1[t_min_idx], t2[t_min_idx]\n",
    "\n",
    "t_init = np.array([[0.25], [-1]])"
   ]
  },
  {
   "cell_type": "code",
   "execution_count": 73,
   "id": "61107e88",
   "metadata": {
    "ExecuteTime": {
     "end_time": "2021-11-29T13:38:34.366133Z",
     "start_time": "2021-11-29T13:38:34.359938Z"
    }
   },
   "outputs": [],
   "source": [
    "def bgd_path(theta, X, y, l1, l2, core = 1, eta = 0.05, n_iterations = 200):\n",
    "    path = [theta]\n",
    "    for iteration in range(n_iterations):\n",
    "        gradients = core * 2/len(X) * X.T.dot(X.dot(theta) - y) + l1 * np.sign(theta) + l2 * theta\n",
    "        theta = theta - eta * gradients\n",
    "        path.append(theta)\n",
    "    \n",
    "    return np.array(path)"
   ]
  },
  {
   "cell_type": "code",
   "execution_count": 74,
   "id": "c490e28d",
   "metadata": {
    "ExecuteTime": {
     "end_time": "2021-11-29T13:38:35.991769Z",
     "start_time": "2021-11-29T13:38:35.124256Z"
    }
   },
   "outputs": [
    {
     "data": {
      "image/png": "[encoded data removed]",
      "text/plain": [
       "<Figure size 727.2x576 with 4 Axes>"
      ]
     },
     "metadata": {
      "needs_background": "light"
     },
     "output_type": "display_data"
    }
   ],
   "source": [
    "fig, axes = plt.subplots(2, 2, sharex = True, sharey = True, figsize = (10.1, 8))\n",
    "\n",
    "for i, N, l1, l2, title in ((0, N1, 2., 0, \"Lasso\"), (1, N2, 0,  2., \"Ridge\")):\n",
    "    JR = J + l1 * N1 + l2 * 0.5 * N2 ** 2\n",
    "    \n",
    "    tr_min_idx = np.unravel_index(np.argmin(JR), JR.shape)\n",
    "    t1r_min, t2r_min = t1[tr_min_idx], t2[tr_min_idx]\n",
    "\n",
    "    levelsJ = (np.exp(np.linspace(0, 1, 20)) - 1) * (np.max(J) - np.min(J)) + np.min(J)\n",
    "    levelsJR = (np.exp(np.linspace(0, 1, 20)) - 1) * (np.max(JR) - np.min(JR)) + np.min(JR)\n",
    "    levelsN = np.linspace(0, np.max(N), 10)\n",
    "    \n",
    "    path_J = bgd_path(t_init, Xr, yr, l1 = 0, l2 = 0)\n",
    "    path_JR = bgd_path(t_init, Xr, yr, l1, l2)\n",
    "    path_N = bgd_path(np.array([[2.0], [0.5]]), Xr, yr, np.sign(l1)/3, np.sign(l2), core=0)\n",
    "\n",
    "    ax = axes[i, 0]\n",
    "    ax.grid(True)\n",
    "    ax.axhline(y = 0, color = 'k')\n",
    "    ax.axvline(x = 0, color = 'k')\n",
    "    ax.contourf(t1, t2, N / 2., levels = levelsN)\n",
    "    ax.plot(path_N[:, 0], path_N[:, 1], \"y--\")\n",
    "    ax.plot(0, 0, \"ys\")\n",
    "    ax.plot(t1_min, t2_min, \"ys\")\n",
    "    ax.set_title(r\"$\\ell_{}$ penalty\".format(i + 1), fontsize = 16)\n",
    "    ax.axis([t1a, t1b, t2a, t2b])\n",
    "    \n",
    "    if i == 1:\n",
    "        ax.set_xlabel(r\"$\\theta_1$\", fontsize = 16)\n",
    "    ax.set_ylabel(r\"$\\theta_2$\", fontsize = 16, rotation = 0)\n",
    "\n",
    "    ax = axes[i, 1]\n",
    "    ax.grid(True)\n",
    "    ax.axhline(y = 0, color = 'k')\n",
    "    ax.axvline(x = 0, color = 'k')\n",
    "    ax.contourf(t1, t2, JR, levels=levelsJR, alpha = 0.9)\n",
    "    ax.plot(path_JR[:, 0], path_JR[:, 1], \"w-o\")\n",
    "    ax.plot(path_N[:, 0], path_N[:, 1], \"y--\")\n",
    "    ax.plot(0, 0, \"ys\")\n",
    "    ax.plot(t1_min, t2_min, \"ys\")\n",
    "    ax.plot(t1r_min, t2r_min, \"rs\")\n",
    "    ax.set_title(title, fontsize = 16)\n",
    "    ax.axis([t1a, t1b, t2a, t2b])\n",
    "    \n",
    "    if i == 1:\n",
    "        ax.set_xlabel(r\"$\\theta_1$\", fontsize=  16)\n",
    "\n",
    "plt.show()"
   ]
  },
  {
   "cell_type": "code",
   "execution_count": null,
   "id": "46bbb0d1",
   "metadata": {},
   "outputs": [],
   "source": []
  },
  {
   "cell_type": "code",
   "execution_count": null,
   "id": "530b0418",
   "metadata": {},
   "outputs": [],
   "source": [
    "from sklearn.linear_model import Lasso"
   ]
  },
  {
   "cell_type": "code",
   "execution_count": null,
   "id": "39aee9c5",
   "metadata": {},
   "outputs": [],
   "source": [
    "lasso_reg = Lasso(alpha=0.1)\n",
    "lasso_reg.fit(X, y)\n",
    "lasso_reg.predict([[1.5]])"
   ]
  },
  {
   "cell_type": "markdown",
   "id": "3e943b47",
   "metadata": {},
   "source": [
    "## 彈性網路 Elastic Net"
   ]
  },
  {
   "cell_type": "markdown",
   "id": "98b69206",
   "metadata": {},
   "source": [
    "彈性網路（Elastic Net）介於 Ridge 回歸與 Lass 回歸之間，其正則化項單純只是 Ridge 與 Lasso 的正則化項的混合，可控制混和比率 r 。當 r=0 時，彈性網路相當於 Ridge 回歸，當 r=1 時，則相當於 Lasso 回歸"
   ]
  },
  {
   "cell_type": "code",
   "execution_count": 65,
   "id": "cb04efb3",
   "metadata": {
    "ExecuteTime": {
     "end_time": "2021-11-29T13:31:45.795210Z",
     "start_time": "2021-11-29T13:31:45.791632Z"
    }
   },
   "outputs": [],
   "source": [
    "from sklearn.linear_model import ElasticNet"
   ]
  },
  {
   "cell_type": "code",
   "execution_count": 66,
   "id": "42fba1d3",
   "metadata": {
    "ExecuteTime": {
     "end_time": "2021-11-29T13:31:52.446266Z",
     "start_time": "2021-11-29T13:31:52.434558Z"
    }
   },
   "outputs": [
    {
     "data": {
      "text/plain": [
       "array([4.78114505])"
      ]
     },
     "execution_count": 66,
     "metadata": {},
     "output_type": "execute_result"
    }
   ],
   "source": [
    "elastic_net = ElasticNet(alpha = 0.1, l1_ratio = 0.5, random_state = 42)   # l1_ratio 是混合比率 r\n",
    "elastic_net.fit(X, y)\n",
    "elastic_net.predict([[1.5]])"
   ]
  },
  {
   "cell_type": "markdown",
   "id": "173ecef0",
   "metadata": {},
   "source": [
    "何時該使用一般線性回歸、Ridge、Lasso、Elastic Net？做一些正則化幾乎都錯不了，通常避免使用一般的線性回歸。Ridge 是很好的預選方案，但如果只有少數特徵是有用的，就要選擇 Lasso 或 Elastic Net，因為它們傾向將無用的特徵權重降為0，一般來說，Elastic Net 優於 Lasso，因為當特徵數量大於訓練實例數量，或有些特徵有緊密關聯時，Lasso 可能有不穩定的表現"
   ]
  },
  {
   "cell_type": "markdown",
   "id": "46a54b6a",
   "metadata": {},
   "source": [
    "## 提前停止 Early stopping"
   ]
  },
  {
   "cell_type": "markdown",
   "id": "34b50f8a",
   "metadata": {},
   "source": [
    "將梯度下降這種迭代學習演算法正則化，在驗證誤差到達一個最小值時，立刻停止訓練，這種作法稱為**提前停止（early stopping）**\n",
    "\n",
    "使用隨機與小批次梯度下降時，曲線不那麼平滑，所以可能難以知道是否達到最小值，其中一種解決方法就是在驗證誤差大於最小值一段時間之後停止，接著將模型參數恢復成驗證誤差最小時的值"
   ]
  },
  {
   "cell_type": "code",
   "execution_count": 56,
   "id": "64d7d01f",
   "metadata": {
    "ExecuteTime": {
     "end_time": "2021-11-29T13:19:10.314197Z",
     "start_time": "2021-11-29T13:19:10.303114Z"
    }
   },
   "outputs": [],
   "source": [
    "np.random.seed(42)\n",
    "m = 100\n",
    "X = 6 * np.random.rand(m, 1) - 3\n",
    "y = 2 + X + 0.5 * X ** 2 + np.random.randn(m, 1)"
   ]
  },
  {
   "cell_type": "code",
   "execution_count": 57,
   "id": "21b56fdc",
   "metadata": {
    "ExecuteTime": {
     "end_time": "2021-11-29T13:19:11.411549Z",
     "start_time": "2021-11-29T13:19:11.403782Z"
    }
   },
   "outputs": [],
   "source": [
    "X_train, X_val, y_train, y_val = train_test_split(X[:50], y[:50].ravel(), test_size = 0.5, random_state = 10)"
   ]
  },
  {
   "cell_type": "markdown",
   "id": "a6357393",
   "metadata": {},
   "source": [
    "提前停止的基本做法"
   ]
  },
  {
   "cell_type": "code",
   "execution_count": 58,
   "id": "5d9640d7",
   "metadata": {
    "ExecuteTime": {
     "end_time": "2021-11-29T13:20:40.973511Z",
     "start_time": "2021-11-29T13:20:40.970214Z"
    }
   },
   "outputs": [],
   "source": [
    "from sklearn.base import clone"
   ]
  },
  {
   "cell_type": "code",
   "execution_count": 59,
   "id": "7d97aa4a",
   "metadata": {
    "ExecuteTime": {
     "end_time": "2021-11-29T13:20:41.572152Z",
     "start_time": "2021-11-29T13:20:41.561657Z"
    }
   },
   "outputs": [],
   "source": [
    "# 準備資料\n",
    "poly_scaler = Pipeline([\n",
    "        (\"poly_features\", PolynomialFeatures(degree = 90, include_bias = False)),\n",
    "        (\"std_scaler\", StandardScaler())\n",
    "    ])\n",
    "\n",
    "X_train_poly_scaled = poly_scaler.fit_transform(X_train)\n",
    "X_val_poly_scaled = poly_scaler.transform(X_val)"
   ]
  },
  {
   "cell_type": "code",
   "execution_count": 60,
   "id": "256f44af",
   "metadata": {
    "ExecuteTime": {
     "end_time": "2021-11-29T13:20:42.246335Z",
     "start_time": "2021-11-29T13:20:42.241877Z"
    }
   },
   "outputs": [],
   "source": [
    "sgd_reg = SGDRegressor(max_iter = 1, tol =- np.infty, warm_start = True,\n",
    "                       penalty = None, learning_rate = \"constant\", eta0 = 0.0005, random_state = 42)\n",
    "# warm_start = True 時，當呼叫 fit()時，會在之前停止的地方繼續訓練，而非從頭開始"
   ]
  },
  {
   "cell_type": "code",
   "execution_count": 61,
   "id": "2d9632d7",
   "metadata": {
    "ExecuteTime": {
     "end_time": "2021-11-29T13:20:44.046942Z",
     "start_time": "2021-11-29T13:20:42.894593Z"
    }
   },
   "outputs": [],
   "source": [
    "minimum_val_error = float(\"inf\")\n",
    "best_epoch = None\n",
    "best_model = None\n",
    "\n",
    "for epoch in range(1000):\n",
    "    sgd_reg.fit(X_train_poly_scaled, y_train)  # 在之前停止的地方繼續\n",
    "    y_val_predict = sgd_reg.predict(X_val_poly_scaled)\n",
    "    val_error = mean_squared_error(y_val, y_val_predict)\n",
    "    if val_error < minimum_val_error:\n",
    "        minimum_val_error = val_error\n",
    "        best_epoch = epoch\n",
    "        best_model = clone(sgd_reg)"
   ]
  },
  {
   "cell_type": "code",
   "execution_count": 64,
   "id": "86102687",
   "metadata": {
    "ExecuteTime": {
     "end_time": "2021-11-29T13:24:15.897647Z",
     "start_time": "2021-11-29T13:24:15.890054Z"
    }
   },
   "outputs": [
    {
     "data": {
      "text/plain": [
       "(239,\n",
       " SGDRegressor(eta0=0.0005, learning_rate='constant', max_iter=1, penalty=None,\n",
       "              random_state=42, tol=-inf, warm_start=True))"
      ]
     },
     "execution_count": 64,
     "metadata": {},
     "output_type": "execute_result"
    }
   ],
   "source": [
    "best_epoch, best_model"
   ]
  },
  {
   "cell_type": "markdown",
   "id": "d9e08c99",
   "metadata": {},
   "source": [
    "繪圖"
   ]
  },
  {
   "cell_type": "code",
   "execution_count": 62,
   "id": "d092ed0f",
   "metadata": {
    "ExecuteTime": {
     "end_time": "2021-11-29T13:20:54.636222Z",
     "start_time": "2021-11-29T13:20:54.031089Z"
    }
   },
   "outputs": [],
   "source": [
    "sgd_reg = SGDRegressor(max_iter = 1, tol =- np.infty, warm_start = True,\n",
    "                       penalty = None, learning_rate = \"constant\", eta0 = 0.0005, random_state = 42)\n",
    "\n",
    "n_epochs = 500\n",
    "train_errors, val_errors = [], []\n",
    "\n",
    "for epoch in range(n_epochs):\n",
    "    sgd_reg.fit(X_train_poly_scaled, y_train)\n",
    "    y_train_predict = sgd_reg.predict(X_train_poly_scaled)\n",
    "    y_val_predict = sgd_reg.predict(X_val_poly_scaled)\n",
    "    train_errors.append(mean_squared_error(y_train, y_train_predict))\n",
    "    val_errors.append(mean_squared_error(y_val, y_val_predict))\n",
    "\n",
    "best_epoch = np.argmin(val_errors)\n",
    "best_val_rmse = np.sqrt(val_errors[best_epoch])"
   ]
  },
  {
   "cell_type": "code",
   "execution_count": 63,
   "id": "e5774b88",
   "metadata": {
    "ExecuteTime": {
     "end_time": "2021-11-29T13:20:56.485087Z",
     "start_time": "2021-11-29T13:20:56.235261Z"
    }
   },
   "outputs": [
    {
     "data": {
      "image/png": "[encoded data removed]",
      "text/plain": [
       "<Figure size 432x288 with 1 Axes>"
      ]
     },
     "metadata": {
      "needs_background": "light"
     },
     "output_type": "display_data"
    }
   ],
   "source": [
    "plt.annotate('Best model',\n",
    "             xy = (best_epoch, best_val_rmse),\n",
    "             xytext = (best_epoch, best_val_rmse + 1),\n",
    "             ha = \"center\",\n",
    "             arrowprops = dict(facecolor='black', shrink = 0.05),\n",
    "             fontsize = 16,\n",
    "            )\n",
    "\n",
    "best_val_rmse -= 0.03  # just to make the graph look better\n",
    "plt.plot([0, n_epochs], [best_val_rmse, best_val_rmse], \"k:\", linewidth = 2)\n",
    "plt.plot(np.sqrt(val_errors), \"b-\", linewidth = 3, label = \"Validation set\")\n",
    "plt.plot(np.sqrt(train_errors), \"r--\", linewidth = 2, label = \"Training set\")\n",
    "plt.legend(loc=\"upper right\", fontsize = 14)\n",
    "plt.xlabel(\"Epoch\", fontsize = 14)\n",
    "plt.ylabel(\"RMSE\", fontsize = 14)\n",
    "\n",
    "plt.show()"
   ]
  },
  {
   "cell_type": "markdown",
   "id": "ef2e9fdd",
   "metadata": {},
   "source": [
    "# Logistic 回歸 Logistic Regression"
   ]
  },
  {
   "cell_type": "markdown",
   "id": "ca45b1fc",
   "metadata": {},
   "source": [
    "Logistic 回歸 （也稱為 Logit 回歸）經常被用來估計一個實例屬於特定類別的機率\n",
    "\n",
    "如果估計出來的機率大於 50%，模型就預測該實例屬於該類別（稱為陽性類別，標為「1」），否則就預測它不屬於該類別（也就是屬於陰性類別，標為「0」），所以是一種二元分類器"
   ]
  },
  {
   "cell_type": "markdown",
   "id": "6689a4e1",
   "metadata": {},
   "source": [
    "## 估計機率"
   ]
  },
  {
   "cell_type": "markdown",
   "id": "94590a7d",
   "metadata": {},
   "source": [
    "同線性回歸一樣，會計算輸入特徵的加權總和（加上一個偏差項），但不像線性回歸模型那樣直接輸出結果，而是輸出該結果的 logistic\n",
    "\n",
    "Logistic 回歸模型估計的機率（向量型式）\n",
    "\n",
    "$\\hat{p} = h_\\theta(x) = \\sigma(x^T\\theta)$"
   ]
  },
  {
   "cell_type": "markdown",
   "id": "3a4ce5c9",
   "metadata": {},
   "source": [
    "logistic（以$\\sigma(.)$來表示）是個 sigmoid（也就是 S 形的）函數，輸出的數字介於 0 和 1 之間\n",
    "\n",
    "Logistic 函數\n",
    "\n",
    "$\\sigma(t) = \\frac{1}{1 + exp(-t)}$"
   ]
  },
  {
   "cell_type": "code",
   "execution_count": 75,
   "id": "219ea556",
   "metadata": {
    "ExecuteTime": {
     "end_time": "2021-11-29T14:59:10.199187Z",
     "start_time": "2021-11-29T14:59:09.918420Z"
    }
   },
   "outputs": [
    {
     "data": {
      "image/png": "[encoded data removed]",
      "text/plain": [
       "<Figure size 648x216 with 1 Axes>"
      ]
     },
     "metadata": {
      "needs_background": "light"
     },
     "output_type": "display_data"
    }
   ],
   "source": [
    "t = np.linspace(-10, 10, 100)\n",
    "sig = 1 / (1 + np.exp(-t))\n",
    "\n",
    "plt.figure(figsize=(9, 3))\n",
    "plt.plot([-10, 10], [0, 0], \"k-\")\n",
    "plt.plot([-10, 10], [0.5, 0.5], \"k:\")\n",
    "plt.plot([-10, 10], [1, 1], \"k:\")\n",
    "plt.plot([0, 0], [-1.1, 1.1], \"k-\")\n",
    "plt.plot(t, sig, \"b-\", linewidth = 2, label = r\"$\\sigma(t) = \\frac{1}{1 + e^{-t}}$\")\n",
    "plt.xlabel(\"t\")\n",
    "plt.legend(loc=\"upper left\", fontsize = 20)\n",
    "plt.axis([-10, 10, -0.1, 1.1])\n",
    "\n",
    "plt.show()"
   ]
  },
  {
   "cell_type": "markdown",
   "id": "9bc76fe0",
   "metadata": {},
   "source": [
    "當 Logistic 回歸模型估計實例 x 屬於陽性類別的機率 $\\hat{p} = h_\\theta(x)$ 時，就可以進行預測 $\\hat{y}$\n",
    "\n",
    "Logistic 回歸模型預測\n",
    "\n",
    "$ \\hat{y} = \\begin{cases} 0 & \\text {if $\\hat{p}$ < 0.5}  \\\\ 1 & \\text{if $\\hat{p} >= 0.5$} \\end{cases} $\n",
    "\n",
    "當 t<0 時，$\\sigma(t) < 0.5$，當 t>= 0 時，$\\sigma(t) >= 0.5$，所以 Logistic 回歸模型會在 $x^T\\theta$ 是陽性時預測1，當它是陰性時則為 0"
   ]
  },
  {
   "cell_type": "markdown",
   "id": "de10f30c",
   "metadata": {},
   "source": [
    "## 訓練與代價函數"
   ]
  },
  {
   "cell_type": "markdown",
   "id": "5041a1c4",
   "metadata": {},
   "source": []
  },
  {
   "cell_type": "code",
   "execution_count": null,
   "id": "33547b29",
   "metadata": {},
   "outputs": [],
   "source": []
  },
  {
   "cell_type": "markdown",
   "id": "a63d05d5",
   "metadata": {},
   "source": [
    "## 決策邊界"
   ]
  },
  {
   "cell_type": "markdown",
   "id": "dd020dfd",
   "metadata": {},
   "source": [
    "建立一個分類器，只根據花瓣寬度特徵來偵測 Iris virginica 品種"
   ]
  },
  {
   "cell_type": "code",
   "execution_count": 76,
   "id": "521c7f2c",
   "metadata": {
    "ExecuteTime": {
     "end_time": "2021-11-29T15:13:12.549852Z",
     "start_time": "2021-11-29T15:13:12.358789Z"
    }
   },
   "outputs": [],
   "source": [
    "from sklearn import datasets"
   ]
  },
  {
   "cell_type": "code",
   "execution_count": 77,
   "id": "27ec1015",
   "metadata": {
    "ExecuteTime": {
     "end_time": "2021-11-29T15:13:13.537297Z",
     "start_time": "2021-11-29T15:13:13.526099Z"
    }
   },
   "outputs": [
    {
     "data": {
      "text/plain": [
       "['data',\n",
       " 'target',\n",
       " 'frame',\n",
       " 'target_names',\n",
       " 'DESCR',\n",
       " 'feature_names',\n",
       " 'filename']"
      ]
     },
     "execution_count": 77,
     "metadata": {},
     "output_type": "execute_result"
    }
   ],
   "source": [
    "iris = datasets.load_iris()\n",
    "list(iris.keys())"
   ]
  },
  {
   "cell_type": "code",
   "execution_count": 78,
   "id": "58118f39",
   "metadata": {
    "ExecuteTime": {
     "end_time": "2021-11-29T15:14:16.423412Z",
     "start_time": "2021-11-29T15:14:16.417894Z"
    }
   },
   "outputs": [
    {
     "name": "stdout",
     "output_type": "stream",
     "text": [
      ".. _iris_dataset:\n",
      "\n",
      "Iris plants dataset\n",
      "--------------------\n",
      "\n",
      "**Data Set Characteristics:**\n",
      "\n",
      "    :Number of Instances: 150 (50 in each of three classes)\n",
      "    :Number of Attributes: 4 numeric, predictive attributes and the class\n",
      "    :Attribute Information:\n",
      "        - sepal length in cm\n",
      "        - sepal width in cm\n",
      "        - petal length in cm\n",
      "        - petal width in cm\n",
      "        - class:\n",
      "                - Iris-Setosa\n",
      "                - Iris-Versicolour\n",
      "                - Iris-Virginica\n",
      "                \n",
      "    :Summary Statistics:\n",
      "\n",
      "    ============== ==== ==== ======= ===== ====================\n",
      "                    Min  Max   Mean    SD   Class Correlation\n",
      "    ============== ==== ==== ======= ===== ====================\n",
      "    sepal length:   4.3  7.9   5.84   0.83    0.7826\n",
      "    sepal width:    2.0  4.4   3.05   0.43   -0.4194\n",
      "    petal length:   1.0  6.9   3.76   1.76    0.9490  (high!)\n",
      "    petal width:    0.1  2.5   1.20   0.76    0.9565  (high!)\n",
      "    ============== ==== ==== ======= ===== ====================\n",
      "\n",
      "    :Missing Attribute Values: None\n",
      "    :Class Distribution: 33.3% for each of 3 classes.\n",
      "    :Creator: R.A. Fisher\n",
      "    :Donor: Michael Marshall (MARSHALL%PLU@io.arc.nasa.gov)\n",
      "    :Date: July, 1988\n",
      "\n",
      "The famous Iris database, first used by Sir R.A. Fisher. The dataset is taken\n",
      "from Fisher's paper. Note that it's the same as in R, but not as in the UCI\n",
      "Machine Learning Repository, which has two wrong data points.\n",
      "\n",
      "This is perhaps the best known database to be found in the\n",
      "pattern recognition literature.  Fisher's paper is a classic in the field and\n",
      "is referenced frequently to this day.  (See Duda & Hart, for example.)  The\n",
      "data set contains 3 classes of 50 instances each, where each class refers to a\n",
      "type of iris plant.  One class is linearly separable from the other 2; the\n",
      "latter are NOT linearly separable from each other.\n",
      "\n",
      ".. topic:: References\n",
      "\n",
      "   - Fisher, R.A. \"The use of multiple measurements in taxonomic problems\"\n",
      "     Annual Eugenics, 7, Part II, 179-188 (1936); also in \"Contributions to\n",
      "     Mathematical Statistics\" (John Wiley, NY, 1950).\n",
      "   - Duda, R.O., & Hart, P.E. (1973) Pattern Classification and Scene Analysis.\n",
      "     (Q327.D83) John Wiley & Sons.  ISBN 0-471-22361-1.  See page 218.\n",
      "   - Dasarathy, B.V. (1980) \"Nosing Around the Neighborhood: A New System\n",
      "     Structure and Classification Rule for Recognition in Partially Exposed\n",
      "     Environments\".  IEEE Transactions on Pattern Analysis and Machine\n",
      "     Intelligence, Vol. PAMI-2, No. 1, 67-71.\n",
      "   - Gates, G.W. (1972) \"The Reduced Nearest Neighbor Rule\".  IEEE Transactions\n",
      "     on Information Theory, May 1972, 431-433.\n",
      "   - See also: 1988 MLC Proceedings, 54-64.  Cheeseman et al\"s AUTOCLASS II\n",
      "     conceptual clustering system finds 3 classes in the data.\n",
      "   - Many, many more ...\n"
     ]
    }
   ],
   "source": [
    "print(iris.DESCR)"
   ]
  },
  {
   "cell_type": "code",
   "execution_count": 79,
   "id": "5982b31f",
   "metadata": {
    "ExecuteTime": {
     "end_time": "2021-11-29T15:14:47.045292Z",
     "start_time": "2021-11-29T15:14:47.038878Z"
    }
   },
   "outputs": [
    {
     "name": "stderr",
     "output_type": "stream",
     "text": [
      "<ipython-input-79-5be2c934dd40>:2: DeprecationWarning: `np.int` is a deprecated alias for the builtin `int`. To silence this warning, use `int` by itself. Doing this will not modify any behavior and is safe. When replacing `np.int`, you may wish to use e.g. `np.int64` or `np.int32` to specify the precision. If you wish to review your current use, check the release note link for additional information.\n",
      "Deprecated in NumPy 1.20; for more details and guidance: https://numpy.org/devdocs/release/1.20.0-notes.html#deprecations\n",
      "  y = (iris[\"target\"] == 2).astype(np.int)  # 1 if Iris virginica, else 0\n"
     ]
    }
   ],
   "source": [
    "X = iris[\"data\"][:, 3:]  # petal width 花瓣寬度\n",
    "y = (iris[\"target\"] == 2).astype(np.int)  # 1 if Iris virginica, else 0"
   ]
  },
  {
   "cell_type": "code",
   "execution_count": 81,
   "id": "c4357ea3",
   "metadata": {
    "ExecuteTime": {
     "end_time": "2021-11-29T15:15:18.498601Z",
     "start_time": "2021-11-29T15:15:18.494624Z"
    }
   },
   "outputs": [],
   "source": [
    "from sklearn.linear_model import LogisticRegression"
   ]
  },
  {
   "cell_type": "code",
   "execution_count": 82,
   "id": "9dc9482b",
   "metadata": {
    "ExecuteTime": {
     "end_time": "2021-11-29T15:15:20.421264Z",
     "start_time": "2021-11-29T15:15:20.404091Z"
    }
   },
   "outputs": [
    {
     "data": {
      "text/plain": [
       "LogisticRegression(random_state=42)"
      ]
     },
     "execution_count": 82,
     "metadata": {},
     "output_type": "execute_result"
    }
   ],
   "source": [
    "log_reg = LogisticRegression(solver = \"lbfgs\", random_state = 42)\n",
    "log_reg.fit(X, y)"
   ]
  },
  {
   "cell_type": "markdown",
   "id": "8b1bdad1",
   "metadata": {},
   "source": [
    "檢視模型估計花瓣寬度從 0cm 到 3cm 的花朵其機率"
   ]
  },
  {
   "cell_type": "code",
   "execution_count": 83,
   "id": "52445f49",
   "metadata": {
    "ExecuteTime": {
     "end_time": "2021-11-29T15:16:17.613332Z",
     "start_time": "2021-11-29T15:16:17.441397Z"
    }
   },
   "outputs": [
    {
     "data": {
      "text/plain": [
       "[<matplotlib.lines.Line2D at 0x7fbcfdf33310>]"
      ]
     },
     "execution_count": 83,
     "metadata": {},
     "output_type": "execute_result"
    },
    {
     "data": {
      "image/png": "[encoded data removed]",
      "text/plain": [
       "<Figure size 432x288 with 1 Axes>"
      ]
     },
     "metadata": {
      "needs_background": "light"
     },
     "output_type": "display_data"
    }
   ],
   "source": [
    "X_new = np.linspace(0, 3, 1000).reshape(-1, 1)\n",
    "y_proba = log_reg.predict_proba(X_new)\n",
    "\n",
    "plt.plot(X_new, y_proba[:, 1], \"g-\", linewidth = 2, label = \"Iris virginica\")\n",
    "plt.plot(X_new, y_proba[:, 0], \"b--\", linewidth = 2, label = \"Not Iris virginica\")"
   ]
  },
  {
   "cell_type": "markdown",
   "id": "8300d013",
   "metadata": {},
   "source": [
    "加入更多 Matplotlib 程式，讓圖形更漂亮"
   ]
  },
  {
   "cell_type": "code",
   "execution_count": 85,
   "id": "9ab102fd",
   "metadata": {
    "ExecuteTime": {
     "end_time": "2021-11-29T15:18:17.870132Z",
     "start_time": "2021-11-29T15:18:17.648585Z"
    }
   },
   "outputs": [
    {
     "name": "stderr",
     "output_type": "stream",
     "text": [
      "/Users/jasonch/opt/anaconda3/lib/python3.8/site-packages/matplotlib/patches.py:1338: VisibleDeprecationWarning: Creating an ndarray from ragged nested sequences (which is a list-or-tuple of lists-or-tuples-or ndarrays with different lengths or shapes) is deprecated. If you meant to do this, you must specify 'dtype=object' when creating the ndarray.\n",
      "  verts = np.dot(coords, M) + (x + dx, y + dy)\n"
     ]
    },
    {
     "data": {
      "image/png": "[encoded data removed]",
      "text/plain": [
       "<Figure size 576x216 with 1 Axes>"
      ]
     },
     "metadata": {
      "needs_background": "light"
     },
     "output_type": "display_data"
    }
   ],
   "source": [
    "X_new = np.linspace(0, 3, 1000).reshape(-1, 1)\n",
    "y_proba = log_reg.predict_proba(X_new)      # 若要直接預測類別，使用 predict()\n",
    "decision_boundary = X_new[y_proba[:, 1] >= 0.5][0]\n",
    "\n",
    "plt.figure(figsize = (8, 3))\n",
    "plt.plot(X[y == 0], y[y == 0], \"bs\")\n",
    "plt.plot(X[y == 1], y[y == 1], \"g^\")\n",
    "plt.plot([decision_boundary, decision_boundary], [-1, 2], \"k:\", linewidth = 2)\n",
    "plt.plot(X_new, y_proba[:, 1], \"g-\", linewidth = 2, label = \"Iris virginica\")\n",
    "plt.plot(X_new, y_proba[:, 0], \"b--\", linewidth = 2, label = \"Not Iris virginica\")\n",
    "plt.text(decision_boundary+0.02, 0.15, \"Decision  boundary\", fontsize = 14, color = \"k\", ha = \"center\")\n",
    "plt.arrow(decision_boundary, 0.08, -0.3, 0, head_width = 0.05, head_length = 0.1, fc='b', ec = 'b')\n",
    "plt.arrow(decision_boundary, 0.92, 0.3, 0, head_width = 0.05, head_length = 0.1, fc = 'g', ec = 'g')\n",
    "plt.xlabel(\"Petal width (cm)\", fontsize = 14)\n",
    "plt.ylabel(\"Probability\", fontsize = 14)\n",
    "plt.legend(loc = \"center left\", fontsize = 14)\n",
    "plt.axis([0, 3, -0.02, 1.02])\n",
    "\n",
    "plt.show()"
   ]
  },
  {
   "cell_type": "code",
   "execution_count": 86,
   "id": "45a44b47",
   "metadata": {
    "ExecuteTime": {
     "end_time": "2021-11-29T15:19:47.474587Z",
     "start_time": "2021-11-29T15:19:47.467199Z"
    }
   },
   "outputs": [
    {
     "data": {
      "text/plain": [
       "array([1.66066066])"
      ]
     },
     "execution_count": 86,
     "metadata": {},
     "output_type": "execute_result"
    }
   ],
   "source": [
    "decision_boundary"
   ]
  },
  {
   "cell_type": "code",
   "execution_count": 87,
   "id": "4fa027ea",
   "metadata": {
    "ExecuteTime": {
     "end_time": "2021-11-29T15:19:49.082004Z",
     "start_time": "2021-11-29T15:19:49.074944Z"
    }
   },
   "outputs": [
    {
     "data": {
      "text/plain": [
       "array([1, 0])"
      ]
     },
     "execution_count": 87,
     "metadata": {},
     "output_type": "execute_result"
    }
   ],
   "source": [
    "log_reg.predict([[1.7], [1.5]])"
   ]
  },
  {
   "cell_type": "markdown",
   "id": "da05e05f",
   "metadata": {},
   "source": [
    "線性決策邊界"
   ]
  },
  {
   "cell_type": "code",
   "execution_count": 88,
   "id": "9068a3aa",
   "metadata": {
    "ExecuteTime": {
     "end_time": "2021-11-29T15:20:33.990514Z",
     "start_time": "2021-11-29T15:20:33.986333Z"
    }
   },
   "outputs": [],
   "source": [
    "from sklearn.linear_model import LogisticRegression"
   ]
  },
  {
   "cell_type": "code",
   "execution_count": 89,
   "id": "80bdb6e0",
   "metadata": {
    "ExecuteTime": {
     "end_time": "2021-11-29T15:20:41.056970Z",
     "start_time": "2021-11-29T15:20:41.051042Z"
    }
   },
   "outputs": [
    {
     "name": "stderr",
     "output_type": "stream",
     "text": [
      "<ipython-input-89-049720a72dfc>:2: DeprecationWarning: `np.int` is a deprecated alias for the builtin `int`. To silence this warning, use `int` by itself. Doing this will not modify any behavior and is safe. When replacing `np.int`, you may wish to use e.g. `np.int64` or `np.int32` to specify the precision. If you wish to review your current use, check the release note link for additional information.\n",
      "Deprecated in NumPy 1.20; for more details and guidance: https://numpy.org/devdocs/release/1.20.0-notes.html#deprecations\n",
      "  y = (iris[\"target\"] == 2).astype(np.int)\n"
     ]
    }
   ],
   "source": [
    "X = iris[\"data\"][:, (2, 3)]  # petal length, petal width\n",
    "y = (iris[\"target\"] == 2).astype(np.int)"
   ]
  },
  {
   "cell_type": "code",
   "execution_count": 91,
   "id": "a1ca7de1",
   "metadata": {
    "ExecuteTime": {
     "end_time": "2021-11-29T15:21:15.931762Z",
     "start_time": "2021-11-29T15:21:15.916515Z"
    }
   },
   "outputs": [
    {
     "data": {
      "text/plain": [
       "LogisticRegression(C=10000000000, random_state=42)"
      ]
     },
     "execution_count": 91,
     "metadata": {},
     "output_type": "execute_result"
    }
   ],
   "source": [
    "log_reg = LogisticRegression(solver=\"lbfgs\", C=10**10, random_state=42)\n",
    "log_reg.fit(X, y)"
   ]
  },
  {
   "cell_type": "code",
   "execution_count": 92,
   "id": "cfb8351f",
   "metadata": {
    "ExecuteTime": {
     "end_time": "2021-11-29T15:21:18.330520Z",
     "start_time": "2021-11-29T15:21:17.972066Z"
    }
   },
   "outputs": [
    {
     "data": {
      "image/png": "[encoded data removed]",
      "text/plain": [
       "<Figure size 720x288 with 1 Axes>"
      ]
     },
     "metadata": {
      "needs_background": "light"
     },
     "output_type": "display_data"
    }
   ],
   "source": [
    "x0, x1 = np.meshgrid(\n",
    "        np.linspace(2.9, 7, 500).reshape(-1, 1),\n",
    "        np.linspace(0.8, 2.7, 200).reshape(-1, 1),\n",
    "    )\n",
    "X_new = np.c_[x0.ravel(), x1.ravel()]\n",
    "\n",
    "y_proba = log_reg.predict_proba(X_new)\n",
    "\n",
    "plt.figure(figsize = (10, 4))\n",
    "plt.plot(X[y == 0, 0], X[y == 0, 1], \"bs\")\n",
    "plt.plot(X[y == 1, 0], X[y == 1, 1], \"g^\")\n",
    "\n",
    "zz = y_proba[:, 1].reshape(x0.shape)\n",
    "contour = plt.contour(x0, x1, zz, cmap = plt.cm.brg)\n",
    "\n",
    "\n",
    "left_right = np.array([2.9, 7])\n",
    "boundary = -(log_reg.coef_[0][0] * left_right + log_reg.intercept_[0]) / log_reg.coef_[0][1]\n",
    "\n",
    "plt.clabel(contour, inline=1, fontsize = 12)\n",
    "plt.plot(left_right, boundary, \"k--\", linewidth = 3)\n",
    "plt.text(3.5, 1.5, \"Not Iris virginica\", fontsize = 14, color = \"b\", ha = \"center\")\n",
    "plt.text(6.5, 2.3, \"Iris virginica\", fontsize = 14, color = \"g\", ha = \"center\")\n",
    "plt.xlabel(\"Petal length\", fontsize = 14)\n",
    "plt.ylabel(\"Petal width\", fontsize = 14)\n",
    "plt.axis([2.9, 7, 0.8, 2.7])\n",
    "\n",
    "plt.show()"
   ]
  },
  {
   "cell_type": "code",
   "execution_count": 93,
   "id": "867158e2",
   "metadata": {
    "ExecuteTime": {
     "end_time": "2021-11-29T15:22:54.450326Z",
     "start_time": "2021-11-29T15:22:54.420141Z"
    }
   },
   "outputs": [
    {
     "data": {
      "text/plain": [
       "LogisticRegression(C=10, multi_class='multinomial', random_state=42)"
      ]
     },
     "execution_count": 93,
     "metadata": {},
     "output_type": "execute_result"
    }
   ],
   "source": [
    "X = iris[\"data\"][:, (2, 3)]  # petal length, petal width\n",
    "y = iris[\"target\"]\n",
    "\n",
    "softmax_reg = LogisticRegression(multi_class=\"multinomial\",solver=\"lbfgs\", C=10, random_state=42)\n",
    "softmax_reg.fit(X, y)"
   ]
  },
  {
   "cell_type": "code",
   "execution_count": 94,
   "id": "53d8f93f",
   "metadata": {
    "ExecuteTime": {
     "end_time": "2021-11-29T15:23:06.532255Z",
     "start_time": "2021-11-29T15:23:06.019307Z"
    }
   },
   "outputs": [
    {
     "data": {
      "image/png": "[encoded data removed]",
      "text/plain": [
       "<Figure size 720x288 with 1 Axes>"
      ]
     },
     "metadata": {
      "needs_background": "light"
     },
     "output_type": "display_data"
    }
   ],
   "source": [
    "x0, x1 = np.meshgrid(\n",
    "        np.linspace(0, 8, 500).reshape(-1, 1),\n",
    "        np.linspace(0, 3.5, 200).reshape(-1, 1),\n",
    "    )\n",
    "X_new = np.c_[x0.ravel(), x1.ravel()]\n",
    "\n",
    "\n",
    "y_proba = softmax_reg.predict_proba(X_new)\n",
    "y_predict = softmax_reg.predict(X_new)\n",
    "\n",
    "zz1 = y_proba[:, 1].reshape(x0.shape)\n",
    "zz = y_predict.reshape(x0.shape)\n",
    "\n",
    "plt.figure(figsize=(10, 4))\n",
    "plt.plot(X[y==2, 0], X[y==2, 1], \"g^\", label=\"Iris virginica\")\n",
    "plt.plot(X[y==1, 0], X[y==1, 1], \"bs\", label=\"Iris versicolor\")\n",
    "plt.plot(X[y==0, 0], X[y==0, 1], \"yo\", label=\"Iris setosa\")\n",
    "\n",
    "from matplotlib.colors import ListedColormap\n",
    "custom_cmap = ListedColormap(['#fafab0','#9898ff','#a0faa0'])\n",
    "\n",
    "plt.contourf(x0, x1, zz, cmap=custom_cmap)\n",
    "contour = plt.contour(x0, x1, zz1, cmap=plt.cm.brg)\n",
    "plt.clabel(contour, inline=1, fontsize=12)\n",
    "plt.xlabel(\"Petal length\", fontsize=14)\n",
    "plt.ylabel(\"Petal width\", fontsize=14)\n",
    "plt.legend(loc=\"center left\", fontsize=14)\n",
    "plt.axis([0, 7, 0, 3.5])\n",
    "\n",
    "plt.show()"
   ]
  },
  {
   "cell_type": "code",
   "execution_count": 95,
   "id": "e917e17c",
   "metadata": {
    "ExecuteTime": {
     "end_time": "2021-11-29T15:23:10.075088Z",
     "start_time": "2021-11-29T15:23:10.067806Z"
    }
   },
   "outputs": [
    {
     "data": {
      "text/plain": [
       "array([2])"
      ]
     },
     "execution_count": 95,
     "metadata": {},
     "output_type": "execute_result"
    }
   ],
   "source": [
    "softmax_reg.predict([[5, 2]])"
   ]
  },
  {
   "cell_type": "code",
   "execution_count": 96,
   "id": "baa3db5f",
   "metadata": {
    "ExecuteTime": {
     "end_time": "2021-11-29T15:23:10.738248Z",
     "start_time": "2021-11-29T15:23:10.731502Z"
    }
   },
   "outputs": [
    {
     "data": {
      "text/plain": [
       "array([[6.38014896e-07, 5.74929995e-02, 9.42506362e-01]])"
      ]
     },
     "execution_count": 96,
     "metadata": {},
     "output_type": "execute_result"
    }
   ],
   "source": [
    "softmax_reg.predict_proba([[5, 2]])"
   ]
  },
  {
   "cell_type": "code",
   "execution_count": null,
   "id": "84c9cf78",
   "metadata": {},
   "outputs": [],
   "source": []
  },
  {
   "cell_type": "markdown",
   "id": "9e91fecb",
   "metadata": {},
   "source": [
    "實作批次梯度下降，並使用提前停止的 Softmax 回歸\n",
    "\n",
    "12. Batch Gradient Descent with early stopping for Softmax Regression\n",
    "\n",
    "(without using Scikit-Learn)"
   ]
  },
  {
   "cell_type": "markdown",
   "id": "457c3574",
   "metadata": {},
   "source": [
    "Let's start by loading the data. We will just reuse the Iris dataset we loaded earlier."
   ]
  },
  {
   "cell_type": "code",
   "execution_count": 67,
   "id": "a03f3514",
   "metadata": {},
   "outputs": [],
   "source": [
    "X = iris[\"data\"][:, (2, 3)]  # petal length, petal width\n",
    "y = iris[\"target\"]"
   ]
  },
  {
   "cell_type": "markdown",
   "id": "e7b6c84b",
   "metadata": {},
   "source": [
    "We need to add the bias term for every instance ($x_0 = 1$):"
   ]
  },
  {
   "cell_type": "code",
   "execution_count": 68,
   "id": "dcd64b39",
   "metadata": {},
   "outputs": [],
   "source": [
    "X_with_bias = np.c_[np.ones([len(X), 1]), X]"
   ]
  },
  {
   "cell_type": "markdown",
   "id": "f449558e",
   "metadata": {},
   "source": [
    "And let's set the random seed so the output of this exercise solution is reproducible:"
   ]
  },
  {
   "cell_type": "code",
   "execution_count": 69,
   "id": "85bd2b5f",
   "metadata": {},
   "outputs": [],
   "source": [
    "np.random.seed(2042)"
   ]
  },
  {
   "cell_type": "markdown",
   "id": "e12bf668",
   "metadata": {},
   "source": [
    "The easiest option to split the dataset into a training set, a validation set and a test set would be to use Scikit-Learn's `train_test_split()` function, but the point of this exercise is to try understand the algorithms by implementing them manually. So here is one possible implementation:"
   ]
  },
  {
   "cell_type": "code",
   "execution_count": 70,
   "id": "e2f17594",
   "metadata": {},
   "outputs": [],
   "source": [
    "test_ratio = 0.2\n",
    "validation_ratio = 0.2\n",
    "total_size = len(X_with_bias)\n",
    "\n",
    "test_size = int(total_size * test_ratio)\n",
    "validation_size = int(total_size * validation_ratio)\n",
    "train_size = total_size - test_size - validation_size\n",
    "\n",
    "rnd_indices = np.random.permutation(total_size)\n",
    "\n",
    "X_train = X_with_bias[rnd_indices[:train_size]]\n",
    "y_train = y[rnd_indices[:train_size]]\n",
    "X_valid = X_with_bias[rnd_indices[train_size:-test_size]]\n",
    "y_valid = y[rnd_indices[train_size:-test_size]]\n",
    "X_test = X_with_bias[rnd_indices[-test_size:]]\n",
    "y_test = y[rnd_indices[-test_size:]]"
   ]
  },
  {
   "cell_type": "markdown",
   "id": "8da4301d",
   "metadata": {},
   "source": [
    "The targets are currently class indices (0, 1 or 2), but we need target class probabilities to train the Softmax Regression model. Each instance will have target class probabilities equal to 0.0 for all classes except for the target class which will have a probability of 1.0 (in other words, the vector of class probabilities for ay given instance is a one-hot vector). Let's write a small function to convert the vector of class indices into a matrix containing a one-hot vector for each instance:"
   ]
  },
  {
   "cell_type": "code",
   "execution_count": 71,
   "id": "210393b5",
   "metadata": {},
   "outputs": [],
   "source": [
    "def to_one_hot(y):\n",
    "    n_classes = y.max() + 1\n",
    "    m = len(y)\n",
    "    Y_one_hot = np.zeros((m, n_classes))\n",
    "    Y_one_hot[np.arange(m), y] = 1\n",
    "    return Y_one_hot"
   ]
  },
  {
   "cell_type": "markdown",
   "id": "6fe06179",
   "metadata": {},
   "source": [
    "Let's test this function on the first 10 instances:"
   ]
  },
  {
   "cell_type": "code",
   "execution_count": 72,
   "id": "a098fed1",
   "metadata": {},
   "outputs": [
    {
     "data": {
      "text/plain": [
       "array([0, 1, 2, 1, 1, 0, 1, 1, 1, 0])"
      ]
     },
     "execution_count": 72,
     "metadata": {},
     "output_type": "execute_result"
    }
   ],
   "source": [
    "y_train[:10]"
   ]
  },
  {
   "cell_type": "code",
   "execution_count": 73,
   "id": "756eb26b",
   "metadata": {},
   "outputs": [
    {
     "data": {
      "text/plain": [
       "array([[1., 0., 0.],\n",
       "       [0., 1., 0.],\n",
       "       [0., 0., 1.],\n",
       "       [0., 1., 0.],\n",
       "       [0., 1., 0.],\n",
       "       [1., 0., 0.],\n",
       "       [0., 1., 0.],\n",
       "       [0., 1., 0.],\n",
       "       [0., 1., 0.],\n",
       "       [1., 0., 0.]])"
      ]
     },
     "execution_count": 73,
     "metadata": {},
     "output_type": "execute_result"
    }
   ],
   "source": [
    "to_one_hot(y_train[:10])"
   ]
  },
  {
   "cell_type": "markdown",
   "id": "a1758dbe",
   "metadata": {},
   "source": [
    "Looks good, so let's create the target class probabilities matrix for the training set and the test set:"
   ]
  },
  {
   "cell_type": "code",
   "execution_count": 74,
   "id": "5eda405d",
   "metadata": {},
   "outputs": [],
   "source": [
    "Y_train_one_hot = to_one_hot(y_train)\n",
    "Y_valid_one_hot = to_one_hot(y_valid)\n",
    "Y_test_one_hot = to_one_hot(y_test)"
   ]
  },
  {
   "cell_type": "markdown",
   "id": "b03c3270",
   "metadata": {},
   "source": [
    "Now let's implement the Softmax function. Recall that it is defined by the following equation:\n",
    "\n",
    "$\\sigma\\left(\\mathbf{s}(\\mathbf{x})\\right)_k = \\dfrac{\\exp\\left(s_k(\\mathbf{x})\\right)}{\\sum\\limits_{j=1}^{K}{\\exp\\left(s_j(\\mathbf{x})\\right)}}$"
   ]
  },
  {
   "cell_type": "code",
   "execution_count": 75,
   "id": "e5e62d7a",
   "metadata": {},
   "outputs": [],
   "source": [
    "def softmax(logits):\n",
    "    exps = np.exp(logits)\n",
    "    exp_sums = np.sum(exps, axis=1, keepdims=True)\n",
    "    return exps / exp_sums"
   ]
  },
  {
   "cell_type": "markdown",
   "id": "c738e1e4",
   "metadata": {},
   "source": [
    "We are almost ready to start training. Let's define the number of inputs and outputs:"
   ]
  },
  {
   "cell_type": "code",
   "execution_count": 76,
   "id": "615ea79a",
   "metadata": {},
   "outputs": [],
   "source": [
    "n_inputs = X_train.shape[1] # == 3 (2 features plus the bias term)\n",
    "n_outputs = len(np.unique(y_train))   # == 3 (3 iris classes)"
   ]
  },
  {
   "cell_type": "markdown",
   "id": "ec8bb686",
   "metadata": {},
   "source": [
    "Now here comes the hardest part: training! Theoretically, it's simple: it's just a matter of translating the math equations into Python code. But in practice, it can be quite tricky: in particular, it's easy to mix up the order of the terms, or the indices. You can even end up with code that looks like it's working but is actually not computing exactly the right thing. When unsure, you should write down the shape of each term in the equation and make sure the corresponding terms in your code match closely. It can also help to evaluate each term independently and print them out. The good news it that you won't have to do this everyday, since all this is well implemented by Scikit-Learn, but it will help you understand what's going on under the hood.\n",
    "\n",
    "So the equations we will need are the cost function:\n",
    "\n",
    "$J(\\mathbf{\\Theta}) =\n",
    "- \\dfrac{1}{m}\\sum\\limits_{i=1}^{m}\\sum\\limits_{k=1}^{K}{y_k^{(i)}\\log\\left(\\hat{p}_k^{(i)}\\right)}$\n",
    "\n",
    "And the equation for the gradients:\n",
    "\n",
    "$\\nabla_{\\mathbf{\\theta}^{(k)}} \\, J(\\mathbf{\\Theta}) = \\dfrac{1}{m} \\sum\\limits_{i=1}^{m}{ \\left ( \\hat{p}^{(i)}_k - y_k^{(i)} \\right ) \\mathbf{x}^{(i)}}$\n",
    "\n",
    "Note that $\\log\\left(\\hat{p}_k^{(i)}\\right)$ may not be computable if $\\hat{p}_k^{(i)} = 0$. So we will add a tiny value $\\epsilon$ to $\\log\\left(\\hat{p}_k^{(i)}\\right)$ to avoid getting `nan` values."
   ]
  },
  {
   "cell_type": "code",
   "execution_count": 77,
   "id": "92ec28a9",
   "metadata": {},
   "outputs": [
    {
     "name": "stdout",
     "output_type": "stream",
     "text": [
      "0 5.446205811872683\n",
      "500 0.8350062641405651\n",
      "1000 0.6878801447192402\n",
      "1500 0.6012379137693313\n",
      "2000 0.5444496861981873\n",
      "2500 0.5038530181431525\n",
      "3000 0.4729228972192248\n",
      "3500 0.4482424418895776\n",
      "4000 0.4278651093928793\n",
      "4500 0.41060071429187134\n",
      "5000 0.3956780375390374\n"
     ]
    }
   ],
   "source": [
    "eta = 0.01\n",
    "n_iterations = 5001\n",
    "m = len(X_train)\n",
    "epsilon = 1e-7\n",
    "\n",
    "Theta = np.random.randn(n_inputs, n_outputs)\n",
    "\n",
    "for iteration in range(n_iterations):\n",
    "    logits = X_train.dot(Theta)\n",
    "    Y_proba = softmax(logits)\n",
    "    loss = -np.mean(np.sum(Y_train_one_hot * np.log(Y_proba + epsilon), axis=1))\n",
    "    error = Y_proba - Y_train_one_hot\n",
    "    if iteration % 500 == 0:\n",
    "        print(iteration, loss)\n",
    "    gradients = 1/m * X_train.T.dot(error)\n",
    "    Theta = Theta - eta * gradients"
   ]
  },
  {
   "cell_type": "markdown",
   "id": "760abfc1",
   "metadata": {},
   "source": [
    "And that's it! The Softmax model is trained. Let's look at the model parameters:"
   ]
  },
  {
   "cell_type": "code",
   "execution_count": 78,
   "id": "675e6cca",
   "metadata": {},
   "outputs": [
    {
     "data": {
      "text/plain": [
       "array([[ 3.32094157, -0.6501102 , -2.99979416],\n",
       "       [-1.1718465 ,  0.11706172,  0.10507543],\n",
       "       [-0.70224261, -0.09527802,  1.4786383 ]])"
      ]
     },
     "execution_count": 78,
     "metadata": {},
     "output_type": "execute_result"
    }
   ],
   "source": [
    "Theta"
   ]
  },
  {
   "cell_type": "markdown",
   "id": "79b3eed1",
   "metadata": {},
   "source": [
    "Let's make predictions for the validation set and check the accuracy score:"
   ]
  },
  {
   "cell_type": "code",
   "execution_count": 79,
   "id": "c0f686a5",
   "metadata": {},
   "outputs": [
    {
     "data": {
      "text/plain": [
       "0.9666666666666667"
      ]
     },
     "execution_count": 79,
     "metadata": {},
     "output_type": "execute_result"
    }
   ],
   "source": [
    "logits = X_valid.dot(Theta)\n",
    "Y_proba = softmax(logits)\n",
    "y_predict = np.argmax(Y_proba, axis=1)\n",
    "\n",
    "accuracy_score = np.mean(y_predict == y_valid)\n",
    "accuracy_score"
   ]
  },
  {
   "cell_type": "markdown",
   "id": "b6f1a70f",
   "metadata": {},
   "source": [
    "Well, this model looks pretty good. For the sake of the exercise, let's add a bit of $\\ell_2$ regularization. The following training code is similar to the one above, but the loss now has an additional $\\ell_2$ penalty, and the gradients have the proper additional term (note that we don't regularize the first element of `Theta` since this corresponds to the bias term). Also, let's try increasing the learning rate `eta`."
   ]
  },
  {
   "cell_type": "code",
   "execution_count": 80,
   "id": "c41e31ea",
   "metadata": {},
   "outputs": [
    {
     "name": "stdout",
     "output_type": "stream",
     "text": [
      "0 6.629842469083912\n",
      "500 0.5339667976629505\n",
      "1000 0.503640075014894\n",
      "1500 0.49468910594603216\n",
      "2000 0.4912968418075477\n",
      "2500 0.489899247009333\n",
      "3000 0.48929905984511984\n",
      "3500 0.48903512443978603\n",
      "4000 0.4889173621830818\n",
      "4500 0.4888643337449303\n",
      "5000 0.4888403120738818\n"
     ]
    }
   ],
   "source": [
    "eta = 0.1\n",
    "n_iterations = 5001\n",
    "m = len(X_train)\n",
    "epsilon = 1e-7\n",
    "alpha = 0.1  # regularization hyperparameter\n",
    "\n",
    "Theta = np.random.randn(n_inputs, n_outputs)\n",
    "\n",
    "for iteration in range(n_iterations):\n",
    "    logits = X_train.dot(Theta)\n",
    "    Y_proba = softmax(logits)\n",
    "    xentropy_loss = -np.mean(np.sum(Y_train_one_hot * np.log(Y_proba + epsilon), axis=1))\n",
    "    l2_loss = 1/2 * np.sum(np.square(Theta[1:]))\n",
    "    loss = xentropy_loss + alpha * l2_loss\n",
    "    error = Y_proba - Y_train_one_hot\n",
    "    if iteration % 500 == 0:\n",
    "        print(iteration, loss)\n",
    "    gradients = 1/m * X_train.T.dot(error) + np.r_[np.zeros([1, n_outputs]), alpha * Theta[1:]]\n",
    "    Theta = Theta - eta * gradients"
   ]
  },
  {
   "cell_type": "markdown",
   "id": "c3b8e961",
   "metadata": {},
   "source": [
    "Because of the additional $\\ell_2$ penalty, the loss seems greater than earlier, but perhaps this model will perform better? Let's find out:"
   ]
  },
  {
   "cell_type": "code",
   "execution_count": 81,
   "id": "9b7c8fda",
   "metadata": {},
   "outputs": [
    {
     "data": {
      "text/plain": [
       "1.0"
      ]
     },
     "execution_count": 81,
     "metadata": {},
     "output_type": "execute_result"
    }
   ],
   "source": [
    "logits = X_valid.dot(Theta)\n",
    "Y_proba = softmax(logits)\n",
    "y_predict = np.argmax(Y_proba, axis=1)\n",
    "\n",
    "accuracy_score = np.mean(y_predict == y_valid)\n",
    "accuracy_score"
   ]
  },
  {
   "cell_type": "markdown",
   "id": "94829c94",
   "metadata": {},
   "source": [
    "Cool, perfect accuracy! We probably just got lucky with this validation set, but still, it's pleasant."
   ]
  },
  {
   "cell_type": "markdown",
   "id": "a526899c",
   "metadata": {},
   "source": [
    "Now let's add early stopping. For this we just need to measure the loss on the validation set at every iteration and stop when the error starts growing."
   ]
  },
  {
   "cell_type": "code",
   "execution_count": 82,
   "id": "a804c731",
   "metadata": {},
   "outputs": [
    {
     "name": "stdout",
     "output_type": "stream",
     "text": [
      "0 4.7096017363419875\n",
      "500 0.5739711987633519\n",
      "1000 0.5435638529109127\n",
      "1500 0.5355752782580262\n",
      "2000 0.5331959249285544\n",
      "2500 0.5325946767399383\n",
      "2765 0.5325460966791898\n",
      "2766 0.5325460971327977 early stopping!\n"
     ]
    }
   ],
   "source": [
    "eta = 0.1 \n",
    "n_iterations = 5001\n",
    "m = len(X_train)\n",
    "epsilon = 1e-7\n",
    "alpha = 0.1  # regularization hyperparameter\n",
    "best_loss = np.infty\n",
    "\n",
    "Theta = np.random.randn(n_inputs, n_outputs)\n",
    "\n",
    "for iteration in range(n_iterations):\n",
    "    logits = X_train.dot(Theta)\n",
    "    Y_proba = softmax(logits)\n",
    "    xentropy_loss = -np.mean(np.sum(Y_train_one_hot * np.log(Y_proba + epsilon), axis=1))\n",
    "    l2_loss = 1/2 * np.sum(np.square(Theta[1:]))\n",
    "    loss = xentropy_loss + alpha * l2_loss\n",
    "    error = Y_proba - Y_train_one_hot\n",
    "    gradients = 1/m * X_train.T.dot(error) + np.r_[np.zeros([1, n_outputs]), alpha * Theta[1:]]\n",
    "    Theta = Theta - eta * gradients\n",
    "\n",
    "    logits = X_valid.dot(Theta)\n",
    "    Y_proba = softmax(logits)\n",
    "    xentropy_loss = -np.mean(np.sum(Y_valid_one_hot * np.log(Y_proba + epsilon), axis=1))\n",
    "    l2_loss = 1/2 * np.sum(np.square(Theta[1:]))\n",
    "    loss = xentropy_loss + alpha * l2_loss\n",
    "    if iteration % 500 == 0:\n",
    "        print(iteration, loss)\n",
    "    if loss < best_loss:\n",
    "        best_loss = loss\n",
    "    else:\n",
    "        print(iteration - 1, best_loss)\n",
    "        print(iteration, loss, \"early stopping!\")\n",
    "        break"
   ]
  },
  {
   "cell_type": "code",
   "execution_count": 83,
   "id": "768fd3b0",
   "metadata": {},
   "outputs": [
    {
     "data": {
      "text/plain": [
       "1.0"
      ]
     },
     "execution_count": 83,
     "metadata": {},
     "output_type": "execute_result"
    }
   ],
   "source": [
    "logits = X_valid.dot(Theta)\n",
    "Y_proba = softmax(logits)\n",
    "y_predict = np.argmax(Y_proba, axis=1)\n",
    "\n",
    "accuracy_score = np.mean(y_predict == y_valid)\n",
    "accuracy_score"
   ]
  },
  {
   "cell_type": "markdown",
   "id": "d3c66718",
   "metadata": {},
   "source": [
    "Still perfect, but faster."
   ]
  },
  {
   "cell_type": "markdown",
   "id": "0ced4dbc",
   "metadata": {},
   "source": [
    "Now let's plot the model's predictions on the whole dataset:"
   ]
  },
  {
   "cell_type": "code",
   "execution_count": 84,
   "id": "74132663",
   "metadata": {},
   "outputs": [
    {
     "data": {
      "image/png": "[encoded data removed]",
      "text/plain": [
       "<Figure size 720x288 with 1 Axes>"
      ]
     },
     "metadata": {
      "needs_background": "light"
     },
     "output_type": "display_data"
    }
   ],
   "source": [
    "x0, x1 = np.meshgrid(\n",
    "        np.linspace(0, 8, 500).reshape(-1, 1),\n",
    "        np.linspace(0, 3.5, 200).reshape(-1, 1),\n",
    "    )\n",
    "X_new = np.c_[x0.ravel(), x1.ravel()]\n",
    "X_new_with_bias = np.c_[np.ones([len(X_new), 1]), X_new]\n",
    "\n",
    "logits = X_new_with_bias.dot(Theta)\n",
    "Y_proba = softmax(logits)\n",
    "y_predict = np.argmax(Y_proba, axis=1)\n",
    "\n",
    "zz1 = Y_proba[:, 1].reshape(x0.shape)\n",
    "zz = y_predict.reshape(x0.shape)\n",
    "\n",
    "plt.figure(figsize=(10, 4))\n",
    "plt.plot(X[y==2, 0], X[y==2, 1], \"g^\", label=\"Iris virginica\")\n",
    "plt.plot(X[y==1, 0], X[y==1, 1], \"bs\", label=\"Iris versicolor\")\n",
    "plt.plot(X[y==0, 0], X[y==0, 1], \"yo\", label=\"Iris setosa\")\n",
    "\n",
    "from matplotlib.colors import ListedColormap\n",
    "custom_cmap = ListedColormap(['#fafab0','#9898ff','#a0faa0'])\n",
    "\n",
    "plt.contourf(x0, x1, zz, cmap=custom_cmap)\n",
    "contour = plt.contour(x0, x1, zz1, cmap=plt.cm.brg)\n",
    "plt.clabel(contour, inline=1, fontsize=12)\n",
    "plt.xlabel(\"Petal length\", fontsize=14)\n",
    "plt.ylabel(\"Petal width\", fontsize=14)\n",
    "plt.legend(loc=\"upper left\", fontsize=14)\n",
    "plt.axis([0, 7, 0, 3.5])\n",
    "plt.show()"
   ]
  },
  {
   "cell_type": "markdown",
   "id": "62b8f35e",
   "metadata": {},
   "source": [
    "And now let's measure the final model's accuracy on the test set:"
   ]
  },
  {
   "cell_type": "code",
   "execution_count": 85,
   "id": "74237b42",
   "metadata": {},
   "outputs": [
    {
     "data": {
      "text/plain": [
       "0.9333333333333333"
      ]
     },
     "execution_count": 85,
     "metadata": {},
     "output_type": "execute_result"
    }
   ],
   "source": [
    "logits = X_test.dot(Theta)\n",
    "Y_proba = softmax(logits)\n",
    "y_predict = np.argmax(Y_proba, axis=1)\n",
    "\n",
    "accuracy_score = np.mean(y_predict == y_test)\n",
    "accuracy_score"
   ]
  },
  {
   "cell_type": "markdown",
   "id": "a7c60744",
   "metadata": {},
   "source": [
    "Our perfect model turns out to have slight imperfections. This variability is likely due to the very small size of the dataset: depending on how you sample the training set, validation set and the test set, you can get quite different results. Try changing the random seed and running the code again a few times, you will see that the results will vary."
   ]
  },
  {
   "cell_type": "code",
   "execution_count": null,
   "id": "0ce2e712",
   "metadata": {},
   "outputs": [],
   "source": []
  }
 ],
 "metadata": {
  "hide_input": false,
  "kernelspec": {
   "display_name": "Python 3 (ipykernel)",
   "language": "python",
   "name": "python3"
  },
  "language_info": {
   "codemirror_mode": {
    "name": "ipython",
    "version": 3
   },
   "file_extension": ".py",
   "mimetype": "text/x-python",
   "name": "python",
   "nbconvert_exporter": "python",
   "pygments_lexer": "ipython3",
   "version": "3.9.7"
  },
  "toc": {
   "base_numbering": 1,
   "nav_menu": {},
   "number_sections": true,
   "sideBar": true,
   "skip_h1_title": false,
   "title_cell": "Table of Contents",
   "title_sidebar": "Contents",
   "toc_cell": false,
   "toc_position": {},
   "toc_section_display": true,
   "toc_window_display": false
  },
  "varInspector": {
   "cols": {
    "lenName": 16,
    "lenType": 16,
    "lenVar": 40
   },
   "kernels_config": {
    "python": {
     "delete_cmd_postfix": "",
     "delete_cmd_prefix": "del ",
     "library": "var_list.py",
     "varRefreshCmd": "print(var_dic_list())"
    },
    "r": {
     "delete_cmd_postfix": ") ",
     "delete_cmd_prefix": "rm(",
     "library": "var_list.r",
     "varRefreshCmd": "cat(var_dic_list()) "
    }
   },
   "types_to_exclude": [
    "module",
    "function",
    "builtin_function_or_method",
    "instance",
    "_Feature"
   ],
   "window_display": false
  }
 },
 "nbformat": 4,
 "nbformat_minor": 5
}
