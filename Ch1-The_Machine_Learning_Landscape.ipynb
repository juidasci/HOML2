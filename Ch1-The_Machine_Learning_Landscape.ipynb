{
 "cells": [
  {
   "cell_type": "markdown",
   "metadata": {},
   "source": [
    "# 什麼是機器學習？"
   ]
  },
  {
   "cell_type": "markdown",
   "metadata": {},
   "source": [
    "機器學習是屬於計算機程式設計的一門科學（及藝術），可讓計算機用資料來學習。  \n",
    "Machine Learning is the science (and art) of programming computers so they can learn from data.\n",
    "\n",
    "\n",
    "較籠統的定義：\n",
    "\n",
    "「機器學習」是一種學習領域，可賦予電腦學習的能力，且不需要明確地編寫程式 - Arthur Samuel, 1959  \n",
    "[Machine Learning is the] field of study that gives computers the ability to learn without being explicitly programmed.\n",
    "—Arthur Samuel, 1959\n",
    "\n",
    "偏向工程的定義：\n",
    "\n",
    "如果一段電腦程式執行某項任務 T 的績效 P 可以隨著經驗 E 的增加而提高，我們就可以說，它可從執行那項任務的經驗中學習 - Tom Mitchell, 1997  \n",
    "A computer program is said to learn from experience E with respect to some task T and some performance measure P, if its performance on T, as measured by P, improves with experience E.\n",
    "—Tom Mitchell, 1997"
   ]
  },
  {
   "cell_type": "markdown",
   "metadata": {},
   "source": [
    "# 為何使用機器學習？"
   ]
  },
  {
   "cell_type": "markdown",
   "metadata": {},
   "source": [
    "運用 ML 技術來挖掘大量資料可以協助發現無法立即看出的模式，這種技術稱為“資料探勘”。\n",
    "\n",
    "Machine Learning is great for:\n",
    "- Problems for which existing solutions require a lot of fine-tuning or long lists of rules: one Machine Learning algorithm can often simplify code and perform better than the traditional approach.\n",
    "- Complex problems for which using a traditional approach yields no good solution: the best Machine Learning techniques can perhaps find a solution.\n",
    "- Fluctuating environments: a Machine Learning system can adapt to new data.\n",
    "- Getting insights about complex problems and large amounts of data."
   ]
  },
  {
   "cell_type": "markdown",
   "metadata": {},
   "source": [
    "# 機器學習系統的種類"
   ]
  },
  {
   "cell_type": "markdown",
   "metadata": {},
   "source": [
    "機器學習系統可將它們分成廣泛的類別：\n",
    "\n",
    "- 是否需要藉由人類的監督來訓練它們（監督、非監督、半監督與強化學習）\n",
    "- 是否可在運行過程中不斷學習（線上 vs. 批次學習）\n",
    "- 運作方式就是只是拿新資料點與已知的資料點來比較，還是偵測訓練資料豬的模式並建構預測模型，就像科學家的做法（基於實例（instance-base）學習 vs. 基於模型（model-based）學習）"
   ]
  },
  {
   "cell_type": "markdown",
   "metadata": {},
   "source": [
    "# 監督 / 非監督學習"
   ]
  },
  {
   "cell_type": "markdown",
   "metadata": {},
   "source": [
    "可根據機器學習系統在訓練期間受監督的數量與類型來分類它們，可分成四個種類：監督、非監督、半監督與強化學習"
   ]
  },
  {
   "cell_type": "markdown",
   "metadata": {},
   "source": [
    "## 監督"
   ]
  },
  {
   "cell_type": "markdown",
   "metadata": {},
   "source": [
    "給演算法的訓練組合包含預期的解答，稱為$標籤$\n",
    "\n",
    "典型的監督學習任務是$分類$\n",
    "\n",
    "另一種典型的任務是根據一組稱為預測特徵（Predictor）的特徵來預測目標數值，這種任務稱為$回歸$\n",
    "\n",
    "有些回歸演算法可以用來分類，如 $Logistic回歸$ 經常被用來進行分類，因為可以輸出一個值，且該值可對應特定類別的幾率\n",
    "\n",
    "重要的監督學習演算法：\n",
    "- K - 近鄰  k-Nearest Neighbors\n",
    "- 線性回歸  Linear Regression\n",
    "- Logistic 回歸  Logistic Regression\n",
    "- 支援向量機（SVM）  Support Vector Machines (SVMs)\n",
    "- 決策樹與隨機森林  Decision Trees and Random Forests\n",
    "- 神經網路  Neural networks\n",
    "\n",
    "\n",
    "有些神經網路結構是無監督的，如自動編碼網路與受限波茲曼機（autoencoders and restricted Boltzmann machines）。也可能是半監督的，如深度信念網路與無監督預先訓練（deep belief networks and unsupervised pretraining）。"
   ]
  },
  {
   "cell_type": "markdown",
   "metadata": {},
   "source": [
    "## 無監督學習"
   ]
  },
  {
   "cell_type": "markdown",
   "metadata": {},
   "source": [
    "無監督學習中，訓練資料是沒有標籤的\n",
    "\n",
    "視覺化演算法也是無監督學習演算法的好例子，將資料輸出成可看的2D或3D資料表示圖，可了解資料的組織，或許可找出之前沒發現的模式\n",
    "\n",
    "降維（dimensionality reduction）其目度在不損失過多資訊的前提下簡化資料。這項任務有一種做法是將許多相關的特徵合併成一個。這可稱為特徵提取（feature extraction）\n",
    "\n",
    "異常檢測是找出不尋常的資料。新穎檢測（novelty detection）其目的是檢測與訓練組的所有實例看起來不一樣的新實例。這需要非常乾淨的訓練組，不包含所希望演算法可以找出的任何實例\n",
    "\n",
    "關聯規則學習（associtation rule learning）其目標是挖掘大量資料，並發現屬性間有趣的關係\n",
    "\n",
    "重要的無監督學習演算法：\n",
    "- 分群法  Clustering\n",
    "  - K-Means\n",
    "  - DBSCAN\n",
    "  - 階層式分群分析（HCA）  Hierarchical Cluster Analysis (HCA)\n",
    "- 異常檢測與新穎檢測  Anomaly detection and novelty detection\n",
    "  - one-class SVM\n",
    "  - 孤立森林（Isolation Forest）\n",
    "- 視覺化與降維  Visualization and dimensionality reduction\n",
    "  - 主成份分析法（PCA）  Principal Component Analysis (PCA)\n",
    "  - Kernel PCA\n",
    "  - 局部線性嵌入法（LLE）  Locally Linear Embedding (LLE)\n",
    "  - t-隨機近鄰嵌入法（t-SNE）  t-Distributed Stochastic Neighbor Embedding (t-SNE)\n",
    "- 關聯規則學習  Association rule learning\n",
    "  - Apriori\n",
    "  - Eclat"
   ]
  },
  {
   "cell_type": "markdown",
   "metadata": {},
   "source": [
    "## 半監督學習"
   ]
  },
  {
   "cell_type": "markdown",
   "metadata": {},
   "source": [
    "資料中有大量標籤的實例，及一些有標間的實例，有演算法可以處理，這種稱為半監督學習\n",
    "\n",
    "大部分的半監督學習演算法是結合無監督與監督驗算法"
   ]
  },
  {
   "cell_type": "markdown",
   "metadata": {},
   "source": [
    "## 強化學習"
   ]
  },
  {
   "cell_type": "markdown",
   "metadata": {},
   "source": [
    "強化學習（Reinforcement Learning）這種技術的學習系統稱為$代理人（agent）$，它可以觀察環境，選擇與執行行動，並獲得獎勵（或是負獎勵形式的懲罰），它會自行學習什麼是最佳策略（稱為$方針（policy）$），來隨著時間得到最多獎勵。方針定義了代理人在特定的情況下應選擇何項行動  \n",
    "Reinforcement Learning is a very different beast. The learning system, called an agent in this context, can observe the environment, select and perform actions, and get rewards in return (or penalties in the form of negative rewards). It must then learn by itself what is the best strategy, called a policy, to get the most reward over time. A policy defines what action the agent should choose when it is in a given situation."
   ]
  },
  {
   "cell_type": "markdown",
   "metadata": {},
   "source": [
    "# 批次與線上學習"
   ]
  },
  {
   "cell_type": "markdown",
   "metadata": {},
   "source": [
    "系統究竟能不能用持續傳入的資料來逐漸學習"
   ]
  },
  {
   "cell_type": "markdown",
   "metadata": {},
   "source": [
    "## 批次學習"
   ]
  },
  {
   "cell_type": "markdown",
   "metadata": {},
   "source": [
    "批次學習系統無法逐漸學習，必須先用所有可用的資料來訓練，因需要較多時間與計算資源，所以通常是離線進行的\n",
    "In batch learning, the system is incapable of learning incrementally: it must be trained using all the available data. This will generally take a lot of time and computing resources, so it is typically done offline. \n",
    "\n",
    "先訓練系統，再於生產環境中啟動，當它運行時就不會學習任何新東西了，只運用它學過的東西，這稱為離線學習（offline learning）\n",
    "\n",
    "要認識新資料，就得要從頭開始訓練新版的系統，停用舊系統，改成新的"
   ]
  },
  {
   "cell_type": "markdown",
   "metadata": {},
   "source": [
    "## 線上學習"
   ]
  },
  {
   "cell_type": "markdown",
   "metadata": {},
   "source": [
    "使用線上學習，要將資料實例循序餵給系統來逐漸訓練它，無論是分別傳入，還是傳入所謂的小批次（mini-batches）  \n",
    "In online learning, you train the system incrementally by feeding it data instances sequentially, either individually or in small groups called mini-batches. \n",
    "\n",
    "很適合持續接收資料串流，且需要快速或自動適應變動的系統。也很適合在計算資源有限的情況下使用\n",
    "\n",
    "線上學習有個重要的參數來表示適應不斷變動的資料數度有多快，這個參數稱為學習速度（learning rate），將該值設定太高，系統就會快速適應新資料，但也會快速忘掉舊資料，如果設太低，系統的慣性較大，學得較慢，但對新資料的雜訊或不具代表性的資料點（離群值）較不敏感"
   ]
  },
  {
   "cell_type": "markdown",
   "metadata": {},
   "source": [
    "# 基於實例 vs. 基於模型"
   ]
  },
  {
   "cell_type": "markdown",
   "metadata": {},
   "source": [
    "類推的方式主要有兩種：基於實例（instance-based）學習和基於模型（model-based）學習"
   ]
  },
  {
   "cell_type": "markdown",
   "metadata": {},
   "source": [
    "## 基於實例學習"
   ]
  },
  {
   "cell_type": "markdown",
   "metadata": {},
   "source": [
    "基於實例學習（instance-based leaning）：系統以死記硬背的方式學習樣本，接著拿它們與學過的案例（或它們的子集合）進行比較，根據相似度來類推新案例  \n",
    "This is called instance-based learning: the system learns the examples by heart, then generalizes to new cases by using a similarity measure to compare them to the learned examples (or a subset of them).\n",
    "\n",
    "另一種方式是用一組樣本來建立這些樣本的模型，接著使用模型來進行預測，這稱為基於模型學習（model-based learning）  \n",
    "Another way to generalize from a set of examples is to build a model of these exam‐ ples and then use that model to make predictions. This is called model-based learning."
   ]
  },
  {
   "cell_type": "markdown",
   "metadata": {},
   "source": [
    "https://github.com/ageron/handson-ml2"
   ]
  },
  {
   "cell_type": "markdown",
   "metadata": {},
   "source": [
    "Example 1-1. Training and running a linear model using Scikit-Learn"
   ]
  },
  {
   "cell_type": "code",
   "execution_count": 2,
   "metadata": {},
   "outputs": [],
   "source": [
    "import matplotlib.pyplot as plt\n",
    "import numpy as np\n",
    "import pandas as pd\n",
    "import sklearn.linear_model"
   ]
  },
  {
   "cell_type": "code",
   "execution_count": 4,
   "metadata": {},
   "outputs": [],
   "source": [
    "# Load the data\n",
    "oecd_bli = pd.read_csv('./datasets/lifesat/oecd_bli_2015.csv', thousands = ',')\n",
    "gdp_per_capita = pd.read_csv('./datasets/lifesat/gdp_per_capita.csv', thousands = ',', delimiter = '\\t', encoding = 'latin1', na_values = 'n/a')"
   ]
  },
  {
   "cell_type": "code",
   "execution_count": 6,
   "metadata": {},
   "outputs": [],
   "source": [
    "def prepare_country_stats(oecd_bli, gdp_per_capita):\n",
    "    oecd_bli = oecd_bli[oecd_bli['INEQUALITY'] == 'TOT']\n",
    "    oecd_bli = oecd_bli.pivot(index = 'Country', columns = 'Indicator', values = 'Value')\n",
    "    gdp_per_capita.rename(columns={'2015': 'GDP per capita'}, inplace = True)\n",
    "    gdp_per_capita.set_index('Country', inplace = True)\n",
    "    full_country_stats = pd.merge(left = oecd_bli, right = gdp_per_capita, left_index = True, right_index = True)\n",
    "    full_country_stats.sort_values(by = 'GDP per capita', inplace = True)\n",
    "    remove_indices = [0, 1, 6, 8, 33, 34, 35]\n",
    "    keep_indices = list(set(range(36)) - set(remove_indices))\n",
    "    return full_country_stats[['GDP per capita', 'Life satisfaction']].iloc[keep_indices]"
   ]
  },
  {
   "cell_type": "code",
   "execution_count": 7,
   "metadata": {},
   "outputs": [],
   "source": [
    "# Prepare the data\n",
    "country_stats = prepare_country_stats(oecd_bli, gdp_per_capita)\n",
    "X = np.c_[country_stats['GDP per capita']]\n",
    "y = np.c_[country_stats['Life satisfaction']]"
   ]
  },
  {
   "cell_type": "code",
   "execution_count": 8,
   "metadata": {},
   "outputs": [
    {
     "data": {
      "image/png": "[encoded data removed]",
      "text/plain": [
       "<Figure size 432x288 with 1 Axes>"
      ]
     },
     "metadata": {
      "needs_background": "light"
     },
     "output_type": "display_data"
    }
   ],
   "source": [
    "# Visualize the data\n",
    "country_stats.plot(kind = 'scatter', x = 'GDP per capita', y = 'Life satisfaction')\n",
    "\n",
    "plt.show()"
   ]
  },
  {
   "cell_type": "code",
   "execution_count": 9,
   "metadata": {},
   "outputs": [],
   "source": [
    "# Select a linear model\n",
    "model = sklearn.linear_model.LinearRegression()"
   ]
  },
  {
   "cell_type": "code",
   "execution_count": 10,
   "metadata": {},
   "outputs": [
    {
     "data": {
      "text/plain": [
       "LinearRegression()"
      ]
     },
     "execution_count": 10,
     "metadata": {},
     "output_type": "execute_result"
    }
   ],
   "source": [
    "# Train the model\n",
    "model.fit(X, y)"
   ]
  },
  {
   "cell_type": "code",
   "execution_count": 11,
   "metadata": {},
   "outputs": [
    {
     "name": "stdout",
     "output_type": "stream",
     "text": [
      "[[5.96242338]]\n"
     ]
    }
   ],
   "source": [
    "# Make a prediction for Cyprus\n",
    "X_new = [[22587]] # Cyprus 人的人均 GDP\n",
    "print(model.predict(X_new)) # 輸出 [[ 5.96242338]]"
   ]
  },
  {
   "cell_type": "markdown",
   "metadata": {},
   "source": [
    "將上述程式的線性回歸換成 k-近鄰回歸"
   ]
  },
  {
   "cell_type": "raw",
   "metadata": {},
   "source": [
    "import sklearn.linear_model\n",
    "model = sklearn.linear_model.LinearRegression()\n",
    "\n",
    "換成以下\n",
    "\n",
    "import sklearn.neighbors\n",
    "model = sklearn.neighbors.KNeighborsRegressor(n_neighbors = 3)"
   ]
  },
  {
   "cell_type": "markdown",
   "metadata": {},
   "source": [
    "# 機器學習的主要挑戰"
   ]
  },
  {
   "cell_type": "markdown",
   "metadata": {},
   "source": [
    "- 訓練資料不足\n",
    "- 訓練資料無代表性\n",
    "- 低品質的資料\n",
    "- 無關的特徵\n",
    "  - 機器學習專案成功的關鍵之一，在於找出一組良好的特徵來訓練。這個程序稱為特徵工程（feature engineering），包含了下列步驟：\n",
    "     - 特徵選擇（從既有的特徵中選出最有用的特徵來訓練）Feature selection (selecting the most useful features to train on among existing features)\n",
    "     - 特徵提取（結合既有的特徵來產生更實用的特徵）Feature extraction (combining existing features to produce a more useful one—as we saw earlier, dimensionality reduction algorithms can help)\n",
    "     - 收集新資料來建立新特徵  Creating new features by gathering new data\n",
    "- 過擬訓練資料\n",
    "  - 過擬（overfitting）：雖然模型在處理訓練資料時有良好的表現，但它無法正確地進行類推\n",
    "     - 約束模型來簡化它或減少過擬風險稱為正則化（regularization）\n",
    "     - 可用超參數（hyperparameter）來控制訓練期間的正則化程度\n",
    "- 欠擬訓練資料\n",
    "  - 欠擬（underfitting）：表示模型太簡單了，以致於無法學習資料的任何底城結構。修正此問題的選項：\n",
    "     - 選擇更強大的模型，使用更多參數\n",
    "     - 為更好的特徵給學習演算法（特徵工程）\n",
    "     - 減少對於模型的約束（例如減少正則化超參數）\n",
    "  \n",
    "超參數（hyperparameter）是一種學習演算法（不是模型）參數，不會被學習演算法本身影響，必須在訓練之前設定，並在訓練期間保持不變  \n",
    "A hyperparameter is a parameter of a learning algorithm (not of the model). As such, it is not affected by the learning algorithm itself; it must be set prior to training and remains constant during training."
   ]
  },
  {
   "cell_type": "markdown",
   "metadata": {},
   "source": [
    "當模型的複雜程度遠超過訓練資料的數量和雜訊時，過擬就會出現  \n",
    "Overfitting happens when the model is too complex relative to the amount and noisiness of the training data.\n",
    "\n",
    "以下是可行的解決方案：\n",
    "- 簡化模型，藉由選擇參數較少的模型，減少訓練資料的屬性數量，或約束模型\n",
    "- 收集更多訓練資料\n",
    "- 減少訓練資料的雜訊（如修正資料錯誤並移除離群值）\n",
    "\n",
    "Here are possible solutions:\n",
    "- Simplify the model by selecting one with fewer parameters (e.g., a linear model rather than a high-degree polynomial model), by reducing the number of attributes in the training data, or by constraining the model.\n",
    "- Gather more training data.\n",
    "- Reduce the noise in the training data (e.g., fix data errors and remove outliers)."
   ]
  },
  {
   "cell_type": "markdown",
   "metadata": {},
   "source": [
    "# 測試與驗證"
   ]
  },
  {
   "cell_type": "markdown",
   "metadata": {},
   "source": [
    "將資料拆成兩組：訓練組與測試組\n",
    "\n",
    "用訓練組來訓練模型，用測試組來測試\n",
    "\n",
    "處理新案例的錯誤率稱為類推誤差（generalization error）（或out-of-sample error），可以用測試組來評估模型，得到這個錯誤率的估計值，了解模型處理沒有看過的實例時的表示如何\n",
    "\n",
    "若訓練誤差很低，但類推誤差很高，就表示模型已經過擬訓練資料了"
   ]
  }
 ],
 "metadata": {
  "kernelspec": {
   "display_name": "Python 3",
   "language": "python",
   "name": "python3"
  },
  "language_info": {
   "codemirror_mode": {
    "name": "ipython",
    "version": 3
   },
   "file_extension": ".py",
   "mimetype": "text/x-python",
   "name": "python",
   "nbconvert_exporter": "python",
   "pygments_lexer": "ipython3",
   "version": "3.8.5"
  },
  "toc": {
   "base_numbering": 1,
   "nav_menu": {},
   "number_sections": true,
   "sideBar": true,
   "skip_h1_title": false,
   "title_cell": "Table of Contents",
   "title_sidebar": "Contents",
   "toc_cell": false,
   "toc_position": {},
   "toc_section_display": true,
   "toc_window_display": false
  },
  "varInspector": {
   "cols": {
    "lenName": 16,
    "lenType": 16,
    "lenVar": 40
   },
   "kernels_config": {
    "python": {
     "delete_cmd_postfix": "",
     "delete_cmd_prefix": "del ",
     "library": "var_list.py",
     "varRefreshCmd": "print(var_dic_list())"
    },
    "r": {
     "delete_cmd_postfix": ") ",
     "delete_cmd_prefix": "rm(",
     "library": "var_list.r",
     "varRefreshCmd": "cat(var_dic_list()) "
    }
   },
   "types_to_exclude": [
    "module",
    "function",
    "builtin_function_or_method",
    "instance",
    "_Feature"
   ],
   "window_display": false
  }
 },
 "nbformat": 4,
 "nbformat_minor": 4
}
